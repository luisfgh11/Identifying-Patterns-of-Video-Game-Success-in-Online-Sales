{
 "cells": [
  {
   "cell_type": "markdown",
   "metadata": {
    "tags": [
     "e5c1f0c2-db9f-43a0-99b9-4875c52427e8"
    ]
   },
   "source": [
    "# Introduction\n",
    "\n",
    "The online store \"Ice\" sells video games all over the world. User and expert reviews, genres, platforms (e.g. Xbox or PlayStation) and historical data on game sales are available in open sources. The goal of this project is to identify patterns that determine whether a game is successful or not. This will allow to detect promising projects and plan advertising campaigns.\n",
    "\n",
    "The data goes back to 2016 and a campaign is being planned for 2017.\n",
    "\n",
    "The dataset contains a \"rating\" column that stores the ESRB rating of each game. The Entertainment Software Rating Board evaluates the content of a game and assigns an age rating such as Teen or Adult.\n",
    "\n",
    "# Data description\n",
    "\n",
    "- Name\n",
    "- Platform\n",
    "- Year_of_Release\n",
    "- Genre\n",
    "- NA_sales (North American sales in millions of US dollars)\n",
    "- EU_sales (European sales in millions of US dollars)\n",
    "- JP_sales (Japan sales in millions of US dollars)\n",
    "- Other_sales (Other countries sales in millions of US dollars)\n",
    "- Critic_Score (maximum of 100)\n",
    "- User_Score (maximum of 10)\n",
    "- Rating (ESRB)"
   ]
  },
  {
   "cell_type": "markdown",
   "metadata": {},
   "source": [
    "## Initialization and data loading"
   ]
  },
  {
   "cell_type": "code",
   "execution_count": 1,
   "metadata": {},
   "outputs": [],
   "source": [
    "# Load libraries required for the project\n",
    "import pandas as pd #Pandas library for dataset creation and manipulation\n",
    "import numpy as np #Numpy library for scientific computing functions\n",
    "import seaborn as sns #Seaborn library for box-and-whisker plot visualization\n",
    "from matplotlib import pyplot as plt #Pyplot for graph visualization\n",
    "from math import factorial #Factorial for factorial calculation\n",
    "from scipy import stats as st #Scipy for statistical functions"
   ]
  },
  {
   "cell_type": "code",
   "execution_count": 2,
   "metadata": {},
   "outputs": [
    {
     "name": "stdout",
     "output_type": "stream",
     "text": [
      "<class 'pandas.core.frame.DataFrame'>\n",
      "RangeIndex: 16715 entries, 0 to 16714\n",
      "Data columns (total 11 columns):\n",
      " #   Column           Non-Null Count  Dtype  \n",
      "---  ------           --------------  -----  \n",
      " 0   Name             16713 non-null  object \n",
      " 1   Platform         16715 non-null  object \n",
      " 2   Year_of_Release  16446 non-null  float64\n",
      " 3   Genre            16713 non-null  object \n",
      " 4   NA_sales         16715 non-null  float64\n",
      " 5   EU_sales         16715 non-null  float64\n",
      " 6   JP_sales         16715 non-null  float64\n",
      " 7   Other_sales      16715 non-null  float64\n",
      " 8   Critic_Score     8137 non-null   float64\n",
      " 9   User_Score       10014 non-null  object \n",
      " 10  Rating           9949 non-null   object \n",
      "dtypes: float64(6), object(5)\n",
      "memory usage: 1.4+ MB\n"
     ]
    }
   ],
   "source": [
    "# Load file with the dataframe and analyze its information\n",
    "df_games = pd.read_csv('games.csv')\n",
    "df_games.info()"
   ]
  },
  {
   "cell_type": "markdown",
   "metadata": {},
   "source": [
    "## Data preparation"
   ]
  },
  {
   "cell_type": "code",
   "execution_count": 3,
   "metadata": {},
   "outputs": [
    {
     "name": "stdout",
     "output_type": "stream",
     "text": [
      "Index(['name', 'platform', 'year_of_release', 'genre', 'na_sales', 'eu_sales',\n",
      "       'jp_sales', 'other_sales', 'critic_score', 'user_score', 'rating'],\n",
      "      dtype='object')\n"
     ]
    }
   ],
   "source": [
    "# Replace column names with lowercase\n",
    "df_games.columns = [col.lower() for col in df_games.columns]\n",
    "print(df_games.columns)"
   ]
  },
  {
   "cell_type": "code",
   "execution_count": 4,
   "metadata": {},
   "outputs": [
    {
     "name": "stdout",
     "output_type": "stream",
     "text": [
      "Duplicate values:  Empty DataFrame\n",
      "Columns: [name, platform, year_of_release, genre, na_sales, eu_sales, jp_sales, other_sales, critic_score, user_score, rating]\n",
      "Index: []\n",
      "<class 'pandas.core.frame.DataFrame'>\n",
      "RangeIndex: 16715 entries, 0 to 16714\n",
      "Data columns (total 11 columns):\n",
      " #   Column           Non-Null Count  Dtype  \n",
      "---  ------           --------------  -----  \n",
      " 0   name             16715 non-null  object \n",
      " 1   platform         16715 non-null  object \n",
      " 2   year_of_release  16715 non-null  float64\n",
      " 3   genre            16715 non-null  object \n",
      " 4   na_sales         16715 non-null  float64\n",
      " 5   eu_sales         16715 non-null  float64\n",
      " 6   jp_sales         16715 non-null  float64\n",
      " 7   other_sales      16715 non-null  float64\n",
      " 8   critic_score     8137 non-null   float64\n",
      " 9   user_score       7590 non-null   object \n",
      " 10  rating           16715 non-null  object \n",
      "dtypes: float64(6), object(5)\n",
      "memory usage: 1.4+ MB\n"
     ]
    }
   ],
   "source": [
    "# MISSING VALUES\n",
    "#Changing missing values ​​in name to \"Unknown\"\n",
    "df_games['name'].fillna(\"Unknown\", inplace=True)\n",
    "#Changing missing values ​​in genre to \"Unknown\"\n",
    "df_games['genre'].fillna(\"Unknown\", inplace=True)\n",
    "#Changing missing values ​​in year_of_release to 0\n",
    "df_games['year_of_release'].fillna(0, inplace=True)\n",
    "#Changing missing values ​​in rating to \"Unknown\"\n",
    "df_games['rating'].fillna(\"Unknown\", inplace=True)\n",
    "#Changing \"tbd\" values ​​in user_score to NaN\n",
    "df_games['user_score'].replace('tbd', np.NaN, inplace=True)\n",
    "\n",
    "# CHECKING VALUES DUPLICATES\n",
    "print(\"Duplicate values: \", df_games[df_games.duplicated()])\n",
    "\n",
    "#Verifying filling of missing values\n",
    "df_games.info()"
   ]
  },
  {
   "cell_type": "code",
   "execution_count": 5,
   "metadata": {},
   "outputs": [
    {
     "name": "stdout",
     "output_type": "stream",
     "text": [
      "True\n",
      "<class 'pandas.core.frame.DataFrame'>\n",
      "RangeIndex: 16715 entries, 0 to 16714\n",
      "Data columns (total 11 columns):\n",
      " #   Column           Non-Null Count  Dtype  \n",
      "---  ------           --------------  -----  \n",
      " 0   name             16715 non-null  object \n",
      " 1   platform         16715 non-null  object \n",
      " 2   year_of_release  16715 non-null  int32  \n",
      " 3   genre            16715 non-null  object \n",
      " 4   na_sales         16715 non-null  float64\n",
      " 5   eu_sales         16715 non-null  float64\n",
      " 6   jp_sales         16715 non-null  float64\n",
      " 7   other_sales      16715 non-null  float64\n",
      " 8   critic_score     8137 non-null   float64\n",
      " 9   user_score       7590 non-null   float64\n",
      " 10  rating           16715 non-null  object \n",
      "dtypes: float64(6), int32(1), object(4)\n",
      "memory usage: 1.3+ MB\n"
     ]
    }
   ],
   "source": [
    "#MODIFYING DATA TYPES\n",
    "\n",
    "#YEAR OF RELEASE: float->int\n",
    "#Verifying that the conversion does not affect the values ​​in the column\n",
    "print(np.array_equal(df_games['year_of_release'], df_games['year_of_release'].astype('int')))\n",
    "#Modifying data type\n",
    "df_games['year_of_release'] = df_games['year_of_release'].astype('int')\n",
    "\n",
    "#USER_SCORE: object->float\n",
    "#Modifying data type\n",
    "df_games['user_score'] = pd.to_numeric(df_games['user_score'], errors='coerce')\n",
    "\n",
    "#Verifying conversion\n",
    "df_games.info()"
   ]
  },
  {
   "cell_type": "code",
   "execution_count": 6,
   "metadata": {},
   "outputs": [
    {
     "name": "stdout",
     "output_type": "stream",
     "text": [
      "                       name platform  year_of_release         genre  na_sales  \\\n",
      "0                Wii Sports      Wii             2006        Sports     41.36   \n",
      "1         Super Mario Bros.      NES             1985      Platform     29.08   \n",
      "2            Mario Kart Wii      Wii             2008        Racing     15.68   \n",
      "3         Wii Sports Resort      Wii             2009        Sports     15.61   \n",
      "4  Pokemon Red/Pokemon Blue       GB             1996  Role-Playing     11.27   \n",
      "\n",
      "   eu_sales  jp_sales  other_sales  critic_score  user_score   rating  \\\n",
      "0     28.96      3.77         8.45          76.0         8.0        E   \n",
      "1      3.58      6.81         0.77           NaN         NaN  Unknown   \n",
      "2     12.76      3.79         3.29          82.0         8.3        E   \n",
      "3     10.93      3.28         2.95          80.0         8.0        E   \n",
      "4      8.89     10.22         1.00           NaN         NaN  Unknown   \n",
      "\n",
      "   total_sales  \n",
      "0        82.54  \n",
      "1        40.24  \n",
      "2        35.52  \n",
      "3        32.77  \n",
      "4        31.38  \n"
     ]
    }
   ],
   "source": [
    "#Adding new column with total sales calculation\n",
    "df_games['total_sales'] = df_games['na_sales'] + df_games['eu_sales'] + df_games['jp_sales'] + df_games['other_sales']\n",
    "print(df_games.head())"
   ]
  },
  {
   "cell_type": "code",
   "execution_count": 7,
   "metadata": {},
   "outputs": [
    {
     "name": "stdout",
     "output_type": "stream",
     "text": [
      "Mean critical_score:  68.96767850559173\n",
      "Median critical_score:  71.0\n",
      "\n",
      "Mean user_score:  7.125046113306982\n",
      "Median user_score:  7.5\n",
      "<class 'pandas.core.frame.DataFrame'>\n",
      "RangeIndex: 16715 entries, 0 to 16714\n",
      "Data columns (total 12 columns):\n",
      " #   Column           Non-Null Count  Dtype  \n",
      "---  ------           --------------  -----  \n",
      " 0   name             16715 non-null  object \n",
      " 1   platform         16715 non-null  object \n",
      " 2   year_of_release  16715 non-null  int32  \n",
      " 3   genre            16715 non-null  object \n",
      " 4   na_sales         16715 non-null  float64\n",
      " 5   eu_sales         16715 non-null  float64\n",
      " 6   jp_sales         16715 non-null  float64\n",
      " 7   other_sales      16715 non-null  float64\n",
      " 8   critic_score     16715 non-null  float64\n",
      " 9   user_score       16715 non-null  float64\n",
      " 10  rating           16715 non-null  object \n",
      " 11  total_sales      16715 non-null  float64\n",
      "dtypes: float64(7), int32(1), object(4)\n",
      "memory usage: 1.5+ MB\n"
     ]
    }
   ],
   "source": [
    "#Filling missing values in critic_score and user_score\n",
    "\n",
    "#Calculating mean and median of both columns\n",
    "critical_score_mean = df_games['critic_score'].mean()\n",
    "critical_score_median = df_games['critic_score'].median()\n",
    "user_score_mean = df_games['user_score'].mean()\n",
    "user_score_median = df_games['user_score'].median()\n",
    "\n",
    "print(\"Mean critical_score: \", critical_score_mean)\n",
    "print(\"Median critical_score: \", critical_score_median)\n",
    "print()\n",
    "print(\"Mean user_score: \", user_score_mean)\n",
    "print(\"Median user_score: \", user_score_median)\n",
    "\n",
    "#Replacing missing values with average\n",
    "df_games['critic_score'].fillna(critical_score_mean, inplace=True)\n",
    "df_games['user_score'].fillna(user_score_mean, inplace=True)\n",
    "\n",
    "#Verifying\n",
    "df_games.info()"
   ]
  },
  {
   "cell_type": "markdown",
   "metadata": {},
   "source": [
    "<h3>Data Preparation Conclusions</h3>\n",
    "\n",
    "**Missing Values**<br>\n",
    "Column names were changed to lowercase.\n",
    "Missing values in some columns were changed as follows:\n",
    "- name: Replaced with the word \"Unknown\".\n",
    "- genre: Replaced with the word \"Unknown\".\n",
    "- year_of_release: Replaced with 0.\n",
    "- rating: Replaced with the word \"Unknown\".\n",
    "- \"tbd\" values in the user_score column were changed to NaN (i.e. missing values).<br>\n",
    "- Missing values in the critical_score and user_score columns were not changed due to the high number of missing values.\n",
    "\n",
    "**Duplicate Values**<br>\n",
    "No duplicate values were found in the dataframe.\n",
    "\n",
    "**Data Types**<br>\n",
    "Changed year_of_release data types to int and user_score to float, respectively.\n",
    "\n",
    "**Feature Engineering**<br>\n",
    "Added a new column \"total_sales\" with the sum of sales across all regions for each game."
   ]
  },
  {
   "cell_type": "markdown",
   "metadata": {},
   "source": [
    "## Analysis"
   ]
  },
  {
   "cell_type": "code",
   "execution_count": 8,
   "metadata": {},
   "outputs": [
    {
     "data": {
      "image/png": "[encoded data removed]",
      "text/plain": [
       "<Figure size 1200x500 with 1 Axes>"
      ]
     },
     "metadata": {},
     "output_type": "display_data"
    }
   ],
   "source": [
    "# *** Showing games released by year ***\n",
    "#Grouping games by year\n",
    "games_per_year = df_games.groupby('year_of_release')['name'].count()\n",
    "#Filtering to remove those without a release year (0), which are in the first row of the grouping\n",
    "games_per_year = games_per_year.loc[1:]\n",
    "#Creating graph\n",
    "games_per_year.plot(kind='bar',\n",
    "                    xlabel=\"Year\",\n",
    "                    ylabel='Games released',\n",
    "                    figsize=[12, 5],\n",
    "                    title='Games released by year',\n",
    "                    grid=True)\n",
    "plt.show()"
   ]
  },
  {
   "cell_type": "markdown",
   "metadata": {},
   "source": [
    "**Remarks**<br>\n",
    "There is a notable increase in the release of games between 2006 and 2011, and from 2012 onwards there is a considerable reduction that continues for the rest of the years."
   ]
  },
  {
   "cell_type": "code",
   "execution_count": 9,
   "metadata": {
    "scrolled": false
   },
   "outputs": [
    {
     "data": {
      "image/png": "[encoded data removed]",
      "text/plain": [
       "<Figure size 1200x400 with 1 Axes>"
      ]
     },
     "metadata": {},
     "output_type": "display_data"
    }
   ],
   "source": [
    "# *** Platform sales over time ***\n",
    "#Grouping by platform and release year with the sum of total sales\n",
    "sales_per_plat_year = df_games.groupby(['platform', 'year_of_release'])['total_sales'].sum()\n",
    "#Sorting from highest to lowest\n",
    "sales_per_plat_year = sales_per_plat_year.sort_values(ascending=False)\n",
    "#Trimming to 80 records to get only the platforms with the highest sales\n",
    "most_sold_platforms = sales_per_plat_year[:80]\n",
    "#Converting the grouped Series to Dataframe\n",
    "most_sold_platforms = most_sold_platforms.to_frame()\n",
    "#Resetting indexes\n",
    "most_sold_platforms.reset_index(inplace=True)\n",
    "\n",
    "#Creating pivot table\n",
    "pivot_spp = most_sold_platforms.pivot_table(index='year_of_release',\n",
    "                                            columns='platform',\n",
    "                                            values='total_sales',\n",
    "                                            aggfunc='sum'\n",
    "                                            )\n",
    "#Graphing\n",
    "ax = pivot_spp.plot(xlabel=\"Year\",\n",
    "                    ylabel='Sales',\n",
    "                    xlim=[1995, 2016],\n",
    "                    figsize=[12, 4],\n",
    "                    title='Sales by year of the best-selling platforms',\n",
    "                    grid=True)\n",
    "\n",
    "# Adjusting the format of the ticks on the x-axis to be integers\n",
    "ax.xaxis.set_major_locator(plt.MaxNLocator(integer=True))\n",
    "\n",
    "#Adjusting legend to be outside the graph\n",
    "ax.legend(loc='center left', bbox_to_anchor=(1, 0.5))\n",
    "\n",
    "plt.show()"
   ]
  },
  {
   "cell_type": "markdown",
   "metadata": {},
   "source": [
    "**Portables**<br>\n",
    "Portable consoles maintain a low level of sales compared to stationary ones, the most popular of these being the GBA, with a life span from 2001 to 2004 and being the only one that managed to exceed 75 million in sales by 2004\n",
    "\n",
    "**Nintendo**<br>\n",
    "Its old console, the N64, had a life span of 3 years, ceasing to sell in 1999, and it took almost 10 years (until 2006) to launch a new console, the Wii, which despite being the second most sold console according to records, exceeding 200 million in 2009, has a very considerable drop in sales until it disappeared in 2011.\n",
    "\n",
    "**Play Station**<br>\n",
    "All PS consoles maintain a certain consistency in their time of appearance/disappearance, the PS clearly dominating the market from 1995 to 2001 (6 years), just before sales ended, in 2000 the PS2 was released, which kept pace with its predecessor, reaching more than 200 million in sales in 2002 and 2004 and being the best-selling console according to records, with a lifespan of 8 years. The PS3 was also released before sales of the PS2 ended, and also maintained a similar lifespan to the previous 2, reaching similar sales to the PS and with a lifespan of 7 years. Finally, the PS4 appeared in the same year that sales of the PS3 ended (2014), and is projected as a console to keep in mind in future years, maintaining sales since then until the present 2016.\n",
    "\n",
    "**Xbox**<br>\n",
    "There are not many records for Xbox, since it does not have as long a history as the other consoles, however its current console, the Xbox One, has maintained sales since its launch in 2014."
   ]
  },
  {
   "cell_type": "code",
   "execution_count": 10,
   "metadata": {},
   "outputs": [],
   "source": [
    "#Converting the previously obtained Series (Grouped by platform and year of release) to Dataframe\n",
    "sales_per_plat_year = sales_per_plat_year.to_frame()\n",
    "#Resetting indexes\n",
    "sales_per_plat_year.reset_index(inplace=True)"
   ]
  },
  {
   "cell_type": "code",
   "execution_count": 11,
   "metadata": {},
   "outputs": [
    {
     "data": {
      "image/png": "[encoded data removed]",
      "text/plain": [
       "<Figure size 1200x400 with 1 Axes>"
      ]
     },
     "metadata": {},
     "output_type": "display_data"
    }
   ],
   "source": [
    "# *** Creating a model for next year (2017) ***\n",
    "#Filtering to take only platforms with sales from 2011 (Last 5 years)\n",
    "lead_platforms_last5y = sales_per_plat_year.query(\"year_of_release > 2010\")\n",
    "#Resetting indexes\n",
    "lead_platforms_last5y.reset_index(inplace=True)\n",
    "\n",
    "#Creating pivot table\n",
    "pivot_lp = lead_platforms_last5y.pivot_table(index='year_of_release',\n",
    "                                             columns='platform',\n",
    "                                             values='total_sales',\n",
    "                                             aggfunc='sum'\n",
    "                                             )\n",
    "\n",
    "#Plotting\n",
    "ax = pivot_lp.plot(xlabel=\"Year\",\n",
    "                   ylabel='Sales',\n",
    "                   figsize=[12, 4],\n",
    "                   title='Leading sales platforms in the last 5 years',\n",
    "                   grid=True)\n",
    "\n",
    "#Adjusting legend to be outside the graph\n",
    "ax.legend(loc='center left', bbox_to_anchor=(1, 0.5))\n",
    "\n",
    "plt.show()"
   ]
  },
  {
   "cell_type": "markdown",
   "metadata": {},
   "source": [
    "**Remarks**<br>\n",
    "All platforms seem to have seen a decline in 2016 compared to 2015, however those that remain at a higher level of profitability are the PS4 and the XOne, what is surprising about the graph is the 3DS console that remains in third place in sales, and the Nintendo WiiU in 4th place."
   ]
  },
  {
   "cell_type": "code",
   "execution_count": 12,
   "metadata": {
    "scrolled": false
   },
   "outputs": [
    {
     "name": "stdout",
     "output_type": "stream",
     "text": [
      "platform\n",
      "PS2     1255.77\n",
      "X360     971.42\n",
      "PS3      939.65\n",
      "Wii      907.51\n",
      "DS       806.12\n",
      "PS       730.86\n",
      "GBA      317.85\n",
      "PS4      314.14\n",
      "PSP      294.05\n",
      "PC       259.52\n",
      "3DS      259.00\n",
      "XB       257.74\n",
      "GB       255.46\n",
      "NES      251.05\n",
      "N64      218.68\n",
      "SNES     200.04\n",
      "GC       198.93\n",
      "XOne     159.32\n",
      "2600      96.98\n",
      "WiiU      82.19\n",
      "PSV       54.07\n",
      "SAT       33.59\n",
      "GEN       30.77\n",
      "DC        15.95\n",
      "SCD        1.86\n",
      "NG         1.44\n",
      "WS         1.42\n",
      "TG16       0.16\n",
      "3DO        0.10\n",
      "GG         0.04\n",
      "PCFX       0.03\n",
      "Name: total_sales, dtype: float64\n"
     ]
    },
    {
     "data": {
      "text/plain": [
       "<Axes: >"
      ]
     },
     "execution_count": 12,
     "metadata": {},
     "output_type": "execute_result"
    },
    {
     "data": {
      "image/png": "[encoded data removed]",
      "text/plain": [
       "<Figure size 640x480 with 1 Axes>"
      ]
     },
     "metadata": {},
     "output_type": "display_data"
    }
   ],
   "source": [
    "# *** Boxplot with sales distribution by platform ***\n",
    "#Grouping by platform and total sum of sales\n",
    "sales_per_platform = df_games.groupby('platform')['total_sales'].sum()\n",
    "#Printing grouping\n",
    "print(sales_per_platform.sort_values(ascending=False))\n",
    "#Creating boxplot\n",
    "sns.boxplot(sales_per_platform)"
   ]
  },
  {
   "cell_type": "markdown",
   "metadata": {},
   "source": [
    "**Remarks**<br>\n",
    "The lowest sales numbers apply to almost all of the older consoles on the list.\n",
    "The median in-box sales hover around $200 million, with several of the consoles having total sales close to this number, a number of which are consoles that peaked in the early 2000s, while the out-of-box data for the top selling platforms are those that peaked between 2004 and 2011 according to the chart above, suggesting that the next generation consoles, despite having solid sales, have not reached the levels once achieved by previous generation consoles such as Sony's PS2 and PS3 and Microsoft's Xbox360."
   ]
  },
  {
   "cell_type": "code",
   "execution_count": 13,
   "metadata": {
    "scrolled": false
   },
   "outputs": [
    {
     "name": "stdout",
     "output_type": "stream",
     "text": [
      "Correlation between critic score and sales:  0.3674538695723083\n",
      "Correlation between user score and sales:  0.21147951638016332\n"
     ]
    },
    {
     "data": {
      "image/png": "[encoded data removed]",
      "text/plain": [
       "<Figure size 800x300 with 1 Axes>"
      ]
     },
     "metadata": {},
     "output_type": "display_data"
    },
    {
     "data": {
      "image/png": "[encoded data removed]",
      "text/plain": [
       "<Figure size 800x300 with 1 Axes>"
      ]
     },
     "metadata": {},
     "output_type": "display_data"
    }
   ],
   "source": [
    "# *** Evaluating correlation between reviews and sales of the PS2 platform ***\n",
    "#Filtering by PS2 platform games\n",
    "ps2 = df_games[df_games['platform'] == 'PS2']\n",
    "\n",
    "#Graficando\n",
    "ps2.plot(x='critic_score', xlabel='Critics score', \n",
    "         y='total_sales', ylabel='Total sales',\n",
    "         figsize=[8, 3],\n",
    "         kind='scatter', \n",
    "         alpha=0.5, \n",
    "         grid=True, \n",
    "         title='Relationship between critics score and PS2 platform sales')\n",
    "\n",
    "ps2.plot(x='user_score', xlabel='User score',\n",
    "         y='total_sales', ylabel='Total sales',\n",
    "         figsize=[8, 3],\n",
    "         kind='scatter',\n",
    "         alpha=0.5,\n",
    "         grid=True,\n",
    "         title='Relationship between user score and sales of PS2 platform')\n",
    "\n",
    "#Calculating correlation coefficients\n",
    "print(\"Correlation between critic score and sales: \", ps2['critic_score'].corr(ps2['total_sales']))\n",
    "print(\"Correlation between user score and sales: \", ps2['user_score'].corr(ps2['total_sales']))"
   ]
  },
  {
   "cell_type": "markdown",
   "metadata": {},
   "source": [
    "**Remarks**<br>\n",
    "It is quite clear from the graphs that there is a positive correlation in both cases, both the user and critic ratings have a direct influence on the number of sales of the games, with the latter having the greatest influence with a correlation of 0.39."
   ]
  },
  {
   "cell_type": "code",
   "execution_count": 14,
   "metadata": {},
   "outputs": [
    {
     "name": "stdout",
     "output_type": "stream",
     "text": [
      "name\n",
      "Need for Speed: Most Wanted    12\n",
      "Madden NFL 07                   9\n",
      "Name: count, dtype: int64\n"
     ]
    },
    {
     "data": {
      "image/png": "[encoded data removed]",
      "text/plain": [
       "<Figure size 600x300 with 1 Axes>"
      ]
     },
     "metadata": {},
     "output_type": "display_data"
    },
    {
     "data": {
      "image/png": "[encoded data removed]",
      "text/plain": [
       "<Figure size 600x300 with 1 Axes>"
      ]
     },
     "metadata": {},
     "output_type": "display_data"
    }
   ],
   "source": [
    "# *** Comparing sales of the same games on different platforms ***\n",
    "\n",
    "#Getting the 2 most repeated games, i.e. found on more platforms\n",
    "most_dif_platforms = df_games['name'].value_counts().head(2)\n",
    "#Showing the 2 games\n",
    "print(most_dif_platforms)\n",
    "\n",
    "#Filtering and grouping by sales of the 1st game\n",
    "NFS_dif_platforms = df_games.query(\"name == 'Need for Speed: Most Wanted'\")\n",
    "NFS_sales_pplat = NFS_dif_platforms.groupby('platform')['total_sales'].sum().sort_values(ascending = False)\n",
    "#Graphing\n",
    "NFS_sales_pplat.plot(kind='bar',\n",
    "                     xlabel=\"Platform\",\n",
    "                     ylabel='MDD Sales', \n",
    "                     figsize=[6, 3],\n",
    "                     title='Need for Speed: Most Wanted sales by platform',\n",
    "                     grid=True)\n",
    "plt.show()\n",
    "\n",
    "#Filtering and grouping by sales of the 2nd game\n",
    "NFL_dif_platforms = df_games.query(\"name == 'Madden NFL 07'\")\n",
    "NFL_sales_pplat = NFL_dif_platforms.groupby('platform')['total_sales'].sum().sort_values(ascending = False)\n",
    "#Graphing\n",
    "NFL_sales_pplat.plot(kind='bar',\n",
    "                     xlabel=\"Platform\",\n",
    "                     ylabel='Sales in MDD',\n",
    "                     figsize=[6, 3],\n",
    "                     title='Madden NFL 07 sales by platform',\n",
    "                     grid=True)\n",
    "plt.show()"
   ]
  },
  {
   "cell_type": "markdown",
   "metadata": {},
   "source": [
    "**Remarks**<br>\n",
    "These two games in particular were distributed on the same platforms, in both cases the highest sales were on the PS2 platform, however the rest of the platforms had variances in sales, for example, for Need for Speed, on the PS3 platform it reached more than 2.5 million in sales, far surpassing the XB which barely surpassed one million. But in the Madden NFL game, sales on the XB were almost double those on the PS3."
   ]
  },
  {
   "cell_type": "code",
   "execution_count": 15,
   "metadata": {},
   "outputs": [
    {
     "data": {
      "image/png": "[encoded data removed]",
      "text/plain": [
       "<Figure size 600x300 with 1 Axes>"
      ]
     },
     "metadata": {},
     "output_type": "display_data"
    },
    {
     "name": "stdout",
     "output_type": "stream",
     "text": [
      "The 15 most popular games sold :\n",
      "                           name         genre  total_sales\n",
      "0                    Wii Sports        Sports        82.54\n",
      "1             Super Mario Bros.      Platform        40.24\n",
      "2                Mario Kart Wii        Racing        35.52\n",
      "3             Wii Sports Resort        Sports        32.77\n",
      "4      Pokemon Red/Pokemon Blue  Role-Playing        31.38\n",
      "5                        Tetris        Puzzle        30.26\n",
      "6         New Super Mario Bros.      Platform        29.80\n",
      "7                      Wii Play          Misc        28.91\n",
      "8     New Super Mario Bros. Wii      Platform        28.32\n",
      "9                     Duck Hunt       Shooter        28.31\n",
      "10                   Nintendogs    Simulation        24.67\n",
      "11                Mario Kart DS        Racing        23.21\n",
      "12  Pokemon Gold/Pokemon Silver  Role-Playing        23.09\n",
      "13                      Wii Fit        Sports        22.70\n",
      "14           Kinect Adventures!          Misc        21.82\n"
     ]
    }
   ],
   "source": [
    "# *** Evaluating profitability of games by genre ***\n",
    "#Grouping by genre and sorting from highest to lowest\n",
    "games_per_genre = df_games.groupby('genre')['total_sales'].sum().sort_values(ascending=False)\n",
    "#Graphing\n",
    "games_per_genre.plot(kind='bar',\n",
    "                     y = \"total_sales\",\n",
    "                     xlabel=\"Genre\",\n",
    "                     ylabel='MDD Sales',\n",
    "                     figsize=[6, 3],\n",
    "                     title='Sales by genre',\n",
    "                     grid=True)\n",
    "plt.show()\n",
    "\n",
    "#getting the best-selling games to see if it is possible to generalize by genre\n",
    "most_sales = df_games.sort_values(by='total_sales', ascending=False)\n",
    "print(\"The 15 most popular games sold :\")\n",
    "print(most_sales.loc[:,['name','genre','total_sales']].head(15))"
   ]
  },
  {
   "cell_type": "markdown",
   "metadata": {},
   "source": [
    "**Remarks**<br>\n",
    "The most profitable game genres and the only ones that exceed 1000 million dollars in sales are: Action, Sports and Shooter.\n",
    "\n",
    "I wouldn't say that we can generalize that the most popular games will always belong to these categories, since 11 of the 15 best-selling games do not belong to these genres, in fact none of them belong to the best-selling genre (Action)."
   ]
  },
  {
   "cell_type": "markdown",
   "metadata": {},
   "source": [
    "## Profile of each region"
   ]
  },
  {
   "cell_type": "code",
   "execution_count": 16,
   "metadata": {},
   "outputs": [],
   "source": [
    "# *** Creating NA Region Profile ***\n",
    "#Grouping by Top 5 Platforms\n",
    "NA_sales_per_platform = df_games.groupby('platform')['na_sales'].sum().sort_values(ascending = False)\n",
    "NA_five_platforms = NA_sales_per_platform.head(5)\n",
    "#Grouping by Top 5 Genres\n",
    "NA_sales_per_genre = df_games.groupby('genre')['na_sales'].sum().sort_values(ascending = False)\n",
    "NA_five_genres = NA_sales_per_genre.head(5)\n",
    "#Grouping by ESRB Rating\n",
    "df_games_rating = df_games.query(\"rating != 'Unknown'\") #Filtering to not include unknown ratings\n",
    "NA_sales_per_ESRB = df_games_rating.groupby('rating')['na_sales'].sum().sort_values(ascending = False)\n",
    "NA_five_ESRB = NA_sales_per_ESRB.head(5)\n",
    "\n",
    "# *** Creating EU Region Profile ***\n",
    "#Grouping by the 5 main platforms\n",
    "EU_sales_per_platform = df_games.groupby('platform')['eu_sales'].sum().sort_values(ascending = False)\n",
    "EU_five_platforms = EU_sales_per_platform.head(5)\n",
    "#Group by the 5 main genres\n",
    "EU_sales_per_genre = df_games.groupby('genre')['eu_sales'].sum().sort_values(ascending = False)\n",
    "EU_five_genres = EU_sales_per_genre.head(5)\n",
    "#Group by ESRB rating\n",
    "EU_sales_per_ESRB = df_games_rating.groupby('rating')['eu_sales'].sum().sort_values(ascending = False)\n",
    "EU_five_ESRB = EU_sales_per_ESRB.head(5)\n",
    "\n",
    "# *** Creating JP Region Profile ***\n",
    "#Grouping by Top 5 Platforms\n",
    "JP_sales_per_platform = df_games.groupby('platform')['jp_sales'].sum().sort_values(ascending = False)\n",
    "JP_five_platforms = JP_sales_per_platform.head(5)\n",
    "#Grouping by Top 5 Genres\n",
    "JP_sales_per_genre = df_games.groupby('genre')['jp_sales'].sum().sort_values(ascending = False)\n",
    "JP_five_genres = JP_sales_per_genre.head(5)\n",
    "#ESRB Rating Grouping\n",
    "JP_sales_per_ESRB = df_games_rating.groupby('rating')['jp_sales'].sum().sort_values(ascending = False)\n",
    "JP_five_ESRB = JP_sales_per_ESRB.head(5)"
   ]
  },
  {
   "cell_type": "code",
   "execution_count": 17,
   "metadata": {},
   "outputs": [
    {
     "name": "stdout",
     "output_type": "stream",
     "text": [
      "Sales by platform in North America: \n",
      "platform\n",
      "X360    602.47\n",
      "PS2     583.84\n",
      "Wii     496.90\n",
      "PS3     393.49\n",
      "DS      382.40\n",
      "Name: na_sales, dtype: float64\n",
      "\n",
      "Sales by platform in Europe: \n",
      "platform\n",
      "PS2     339.29\n",
      "PS3     330.29\n",
      "X360    270.76\n",
      "Wii     262.21\n",
      "PS      213.61\n",
      "Name: eu_sales, dtype: float64\n",
      "\n",
      "Sales by platform in Japan: \n",
      "platform\n",
      "DS      175.57\n",
      "PS      139.82\n",
      "PS2     139.20\n",
      "SNES    116.55\n",
      "3DS     100.67\n",
      "Name: jp_sales, dtype: float64\n"
     ]
    }
   ],
   "source": [
    "print(\"Sales by platform in North America: \")\n",
    "print(NA_five_platforms)\n",
    "print()\n",
    "print(\"Sales by platform in Europe: \")\n",
    "print(EU_five_platforms)\n",
    "print()\n",
    "print(\"Sales by platform in Japan: \")\n",
    "print(JP_five_platforms)"
   ]
  },
  {
   "cell_type": "markdown",
   "metadata": {},
   "source": [
    "**Remarks**<br>\n",
    "- In North America and Europe, the top 5 platforms almost completely coincide, in terms of order, in North America the sales leader is the X360, while in Europe they seem to prefer the PS consoles, both the 2 and the 3 are the best sellers and the PS is at the top, unlike North America where the 5th place is occupied by the DS.\n",
    "- The Japanese region shows a clear difference with respect to the other two regions, the X360 does not appear in the top 5 (surely due to the preference of the Japanese for national products), in addition to the fact that we can see older consoles such as the SNES and the PS in the ranking."
   ]
  },
  {
   "cell_type": "code",
   "execution_count": 18,
   "metadata": {},
   "outputs": [
    {
     "name": "stdout",
     "output_type": "stream",
     "text": [
      "Sales by genre in North America: \n",
      "genre\n",
      "Action      879.01\n",
      "Sports      684.43\n",
      "Shooter     592.24\n",
      "Platform    445.50\n",
      "Misc        407.27\n",
      "Name: na_sales, dtype: float64\n",
      "\n",
      "Sales by genre in Europe: \n",
      "genre\n",
      "Action     519.13\n",
      "Sports     376.79\n",
      "Shooter    317.34\n",
      "Racing     236.51\n",
      "Misc       212.74\n",
      "Name: eu_sales, dtype: float64\n",
      "\n",
      "Sales by genre in the Japan region: \n",
      "genre\n",
      "Role-Playing    355.41\n",
      "Action          161.43\n",
      "Sports          135.54\n",
      "Platform        130.83\n",
      "Misc            108.11\n",
      "Name: jp_sales, dtype: float64\n"
     ]
    }
   ],
   "source": [
    "print(\"Sales by genre in North America: \")\n",
    "print(NA_five_genres)\n",
    "print()\n",
    "print(\"Sales by genre in Europe: \")\n",
    "print(EU_five_genres)\n",
    "print()\n",
    "print(\"Sales by genre in the Japan region: \")\n",
    "print(JP_five_genres)"
   ]
  },
  {
   "cell_type": "markdown",
   "metadata": {},
   "source": [
    "**Remarks**<br>\n",
    "- As with the platform groupings, North America and Europe share the top 5 for game genres in almost the same order, the only difference being that 4th place is occupied by platform games in North America, while racing games are preferred in Europe.\n",
    "- In Japan, sales by genre also differ, with RPGs taking 1st place, with a considerable lead over the other genres.\n",
    "- Action and Sports are clearly the favourite genres, ranking high in all three regions."
   ]
  },
  {
   "cell_type": "code",
   "execution_count": 19,
   "metadata": {},
   "outputs": [
    {
     "name": "stdout",
     "output_type": "stream",
     "text": [
      "Sales by ESRB rating in North America: \n",
      "rating\n",
      "E       1292.99\n",
      "T        759.75\n",
      "M        748.48\n",
      "E10+     353.32\n",
      "K-A        2.56\n",
      "Name: na_sales, dtype: float64\n",
      "\n",
      "Sales by ESRB rating in Europe: \n",
      "rating\n",
      "E       710.25\n",
      "M       483.97\n",
      "T       427.03\n",
      "E10+    188.52\n",
      "AO        0.61\n",
      "Name: eu_sales, dtype: float64\n",
      "\n",
      "Sales by ESRB rating in Japan: \n",
      "rating\n",
      "E       198.11\n",
      "T       151.40\n",
      "M        64.24\n",
      "E10+     40.20\n",
      "K-A       1.46\n",
      "Name: jp_sales, dtype: float64\n"
     ]
    }
   ],
   "source": [
    "print(\"Sales by ESRB rating in North America: \")\n",
    "print(NA_five_ESRB)\n",
    "print()\n",
    "print(\"Sales by ESRB rating in Europe: \")\n",
    "print(EU_five_ESRB)\n",
    "print()\n",
    "print(\"Sales by ESRB rating in Japan: \")\n",
    "print(JP_five_ESRB)"
   ]
  },
  {
   "cell_type": "markdown",
   "metadata": {},
   "source": [
    "**Remarks**<br>\n",
    "- There is no impact on sales due to ESRB ratings, the three regions share practically the same ratings as sales leaders, with E, T and M being the top 3 in all 3 cases."
   ]
  },
  {
   "cell_type": "markdown",
   "metadata": {},
   "source": [
    "## Hypothesis testing"
   ]
  },
  {
   "cell_type": "code",
   "execution_count": 20,
   "metadata": {},
   "outputs": [
    {
     "name": "stdout",
     "output_type": "stream",
     "text": [
      "p-value:  3.329648256313532e-05\n",
      "We reject the null hypothesis, average scores do differ between XOne and PC users.\n"
     ]
    }
   ],
   "source": [
    "# *** Testing Hypothesis ***\n",
    "\"\"\"\n",
    "    H0: Average user ratings for Xbox One and PC platforms are the same\n",
    "    H1: Average user ratings for Xbox One and PC platforms differ\n",
    "\"\"\"\n",
    "\n",
    "#Filtering\n",
    "df_games_uscore_nonan = df_games[~df_games['user_score'].isna()] #Filtering to not include unrated lines\n",
    "user_xone = df_games_uscore_nonan.query(\"platform == 'XOne'\") #Filtering by XOne platform\n",
    "user_pc = df_games_uscore_nonan.query(\"platform == 'PC'\") #Filtering by PC platform\n",
    "\n",
    "#Defining alpha and applying t-test\n",
    "alpha = 0.05\n",
    "results = st. ttest_ind(user_xone['user_score'], user_pc['user_score'])\n",
    "\n",
    "#Extracting p-value\n",
    "print('p-value: ', results.pvalue)\n",
    "\n",
    "if results.pvalue < alpha: # compare p-value to threshold\n",
    "    print(\"We reject the null hypothesis, average scores do differ between XOne and PC users.\")\n",
    "else:\n",
    "    print(\"We cannot reject the null hypothesis, average scores do not differ between XOne and PC users.\")"
   ]
  },
  {
   "cell_type": "code",
   "execution_count": 21,
   "metadata": {},
   "outputs": [
    {
     "name": "stdout",
     "output_type": "stream",
     "text": [
      "p-value:  0.18372589312608184\n",
      "We cannot reject the null hypothesis, the average ratings do not differ between the Action and Sports genres.\n"
     ]
    }
   ],
   "source": [
    "# *** Testing hypothesis ***\n",
    "\"\"\"\n",
    "    H0: Average user ratings for Action and Sports genres are the same.\n",
    "    H1: Average user ratings for Action and Sports genres differ.\n",
    "\"\"\"\n",
    "\n",
    "#Filtering\n",
    "user_action = df_games_uscore_nonan.query(\"genre == 'Action'\") #Filtering by Action genre\n",
    "user_sports = df_games_uscore_nonan.query(\"genre == 'Sports'\") #Filtering by Sports genre\n",
    "\n",
    "#Defining alpha and applying t-test\n",
    "alpha = 0.05\n",
    "results = st.ttest_ind(user_action['user_score'], user_sports['user_score'])\n",
    "\n",
    "#Extracting p-value\n",
    "print('p-value: ', results.pvalue)\n",
    "\n",
    "if results.pvalue < alpha: # compare p-value to threshold\n",
    "    print(\"We reject the null hypothesis, the average ratings do differ between the Action and Sports genres.\")\n",
    "else:\n",
    "    print(\"We cannot reject the null hypothesis, the average ratings do not differ between the Action and Sports genres.\")"
   ]
  },
  {
   "cell_type": "markdown",
   "metadata": {},
   "source": [
    "**Remarks**<br>\n",
    "- In both hypothesis tests, the null hypothesis was defined as the equality in the average ratings for two different platforms and for two different genders respectively, the alternative hypothesis was defined as the difference between these same average ratings.\n",
    "- t tests were used to test the hypothesis, since in both cases the test requires an evaluation of the difference statistic resulting from the comparison of the means of two samples of the population."
   ]
  },
  {
   "cell_type": "markdown",
   "metadata": {},
   "source": [
    "# Conclusiones\n",
    "\n",
    "The data analysis conducted for the online store \"Ice\" has identified key patterns that can influence the selection of successful games for future advertising campaigns.\n",
    "\n",
    "In terms of market trends, there has been a decline in the number of game releases since 2012, suggesting a possible shift in developer strategies or a stronger concentration of titles on specific platforms. Regarding the most profitable platforms, PlayStation 4 (PS4) and Xbox One (XOne) stand out in recent sales, indicating that games targeting these consoles have a higher likelihood of success. However, the Nintendo 3DS also maintains a competitive position, particularly in certain markets.\n",
    "\n",
    "The correlation analysis shows that both critic and user ratings have a positive relationship with game sales, with critic reviews having a greater impact. This highlights the importance of considering expert reviews when selecting which titles to promote.\n",
    "\n",
    "As for the most profitable game genres, Action, Sports, and Shooter games lead global sales. However, the best-selling titles historically cover a wide range of categories, suggesting that a game's success is not solely dependent on its genre. Additionally, player preferences vary by region: while Action and Sports games dominate in North America and Europe, Role-Playing games are the most popular in Japan.\n",
    "\n",
    "Furthermore, hypothesis testing indicates that the average user ratings for Xbox One and PC games are significantly different, possibly due to variations in gaming experiences between these platforms. On the other hand, no significant differences were found between the ratings of Action and Sports genres, suggesting that both types of games generate similar user satisfaction.\n",
    "\n",
    "In conclusion, to maximize the impact of the 2017 advertising campaign, it is recommended to focus on games for the most profitable platforms (PS4 and XOne), prioritizing those with high critic ratings. Additionally, campaigns should be tailored to regional preferences, emphasizing Role-Playing games in Japan and Action and Sports games in North America and Europe."
   ]
  }
 ],
 "metadata": {
  "ExecuteTimeLog": [
   {
    "duration": 4882,
    "start_time": "2024-05-29T01:42:55.875Z"
   },
   {
    "duration": 72,
    "start_time": "2024-05-29T01:44:57.732Z"
   },
   {
    "duration": 40,
    "start_time": "2024-05-29T01:45:36.218Z"
   },
   {
    "duration": 40,
    "start_time": "2024-05-29T01:47:02.946Z"
   },
   {
    "duration": 225,
    "start_time": "2024-05-29T01:47:15.547Z"
   },
   {
    "duration": 51,
    "start_time": "2024-05-29T01:47:22.122Z"
   },
   {
    "duration": 4921,
    "start_time": "2024-06-18T00:29:42.034Z"
   },
   {
    "duration": 73,
    "start_time": "2024-06-18T00:29:46.958Z"
   },
   {
    "duration": 424,
    "start_time": "2024-06-18T00:38:25.440Z"
   },
   {
    "duration": 5,
    "start_time": "2024-06-18T00:38:36.147Z"
   },
   {
    "duration": 52,
    "start_time": "2024-06-18T00:41:04.772Z"
   },
   {
    "duration": 61,
    "start_time": "2024-06-18T00:41:50.996Z"
   },
   {
    "duration": 78,
    "start_time": "2024-06-18T00:42:05.916Z"
   },
   {
    "duration": 918,
    "start_time": "2024-06-18T00:43:26.511Z"
   },
   {
    "duration": 10,
    "start_time": "2024-06-18T01:03:54.144Z"
   },
   {
    "duration": 5,
    "start_time": "2024-06-18T01:03:58.357Z"
   },
   {
    "duration": 5,
    "start_time": "2024-06-18T01:04:03.715Z"
   },
   {
    "duration": 6,
    "start_time": "2024-06-18T01:04:06.830Z"
   },
   {
    "duration": 78,
    "start_time": "2024-06-18T01:04:26.882Z"
   },
   {
    "duration": 17,
    "start_time": "2024-06-18T01:05:03.224Z"
   },
   {
    "duration": 7,
    "start_time": "2024-06-18T01:05:33.117Z"
   },
   {
    "duration": 7,
    "start_time": "2024-06-18T01:05:42.293Z"
   },
   {
    "duration": 20,
    "start_time": "2024-06-18T01:05:47.006Z"
   },
   {
    "duration": 36,
    "start_time": "2024-06-18T01:05:57.390Z"
   },
   {
    "duration": 1288,
    "start_time": "2024-06-18T01:06:28.254Z"
   },
   {
    "duration": 126,
    "start_time": "2024-06-18T01:06:55.679Z"
   },
   {
    "duration": 18,
    "start_time": "2024-06-18T01:11:35.612Z"
   },
   {
    "duration": 116,
    "start_time": "2024-06-18T01:11:48.929Z"
   },
   {
    "duration": 17,
    "start_time": "2024-06-18T01:12:03.782Z"
   },
   {
    "duration": 139,
    "start_time": "2024-06-18T01:12:29.518Z"
   },
   {
    "duration": 6,
    "start_time": "2024-06-18T01:14:53.272Z"
   },
   {
    "duration": 20,
    "start_time": "2024-06-18T01:17:06.501Z"
   },
   {
    "duration": 24,
    "start_time": "2024-06-18T01:47:55.153Z"
   },
   {
    "duration": 120,
    "start_time": "2024-06-18T01:55:06.146Z"
   },
   {
    "duration": 5,
    "start_time": "2024-06-18T01:59:08.654Z"
   },
   {
    "duration": 23,
    "start_time": "2024-06-18T02:00:50.219Z"
   },
   {
    "duration": 59,
    "start_time": "2024-06-18T02:02:28.410Z"
   },
   {
    "duration": 1343,
    "start_time": "2024-06-18T02:06:32.575Z"
   },
   {
    "duration": 78,
    "start_time": "2024-06-18T02:06:39.415Z"
   },
   {
    "duration": 8,
    "start_time": "2024-06-18T02:07:17.756Z"
   },
   {
    "duration": 83,
    "start_time": "2024-06-18T02:07:30.285Z"
   },
   {
    "duration": 5,
    "start_time": "2024-06-18T02:08:19.912Z"
   },
   {
    "duration": 5,
    "start_time": "2024-06-18T02:08:23.587Z"
   },
   {
    "duration": 17,
    "start_time": "2024-06-18T02:10:03.553Z"
   },
   {
    "duration": 1290,
    "start_time": "2024-06-18T02:12:10.226Z"
   },
   {
    "duration": 54,
    "start_time": "2024-06-18T02:12:17.420Z"
   },
   {
    "duration": 5,
    "start_time": "2024-06-18T02:12:29.340Z"
   },
   {
    "duration": 23,
    "start_time": "2024-06-18T02:12:42.250Z"
   },
   {
    "duration": 27,
    "start_time": "2024-06-18T02:12:53.146Z"
   },
   {
    "duration": 22,
    "start_time": "2024-06-18T02:15:21.859Z"
   },
   {
    "duration": 473,
    "start_time": "2024-06-18T02:17:34.998Z"
   },
   {
    "duration": 25,
    "start_time": "2024-06-18T02:18:47.991Z"
   },
   {
    "duration": 23,
    "start_time": "2024-06-18T02:21:46.919Z"
   },
   {
    "duration": 41,
    "start_time": "2024-06-18T02:23:39.117Z"
   },
   {
    "duration": 37,
    "start_time": "2024-06-18T02:23:56.684Z"
   },
   {
    "duration": 1352,
    "start_time": "2024-06-18T02:24:31.626Z"
   },
   {
    "duration": 63,
    "start_time": "2024-06-18T02:24:32.981Z"
   },
   {
    "duration": 5,
    "start_time": "2024-06-18T02:24:33.047Z"
   },
   {
    "duration": 46,
    "start_time": "2024-06-18T02:24:33.056Z"
   },
   {
    "duration": 24,
    "start_time": "2024-06-18T02:24:33.133Z"
   },
   {
    "duration": 1351,
    "start_time": "2024-06-18T02:30:16.974Z"
   },
   {
    "duration": 61,
    "start_time": "2024-06-18T02:30:18.332Z"
   },
   {
    "duration": 6,
    "start_time": "2024-06-18T02:30:18.397Z"
   },
   {
    "duration": 43,
    "start_time": "2024-06-18T02:30:18.432Z"
   },
   {
    "duration": 1862,
    "start_time": "2024-06-18T02:30:18.480Z"
   },
   {
    "duration": 1335,
    "start_time": "2024-06-18T02:30:38.315Z"
   },
   {
    "duration": 54,
    "start_time": "2024-06-18T02:30:39.654Z"
   },
   {
    "duration": 23,
    "start_time": "2024-06-18T02:30:39.711Z"
   },
   {
    "duration": 44,
    "start_time": "2024-06-18T02:30:39.737Z"
   },
   {
    "duration": 55,
    "start_time": "2024-06-18T02:30:39.784Z"
   },
   {
    "duration": 1309,
    "start_time": "2024-06-18T02:32:55.415Z"
   },
   {
    "duration": 60,
    "start_time": "2024-06-18T02:32:56.727Z"
   },
   {
    "duration": 9,
    "start_time": "2024-06-18T02:32:56.792Z"
   },
   {
    "duration": 64,
    "start_time": "2024-06-18T02:32:56.806Z"
   },
   {
    "duration": 25,
    "start_time": "2024-06-18T02:32:56.872Z"
   },
   {
    "duration": 514,
    "start_time": "2024-06-18T02:33:41.629Z"
   },
   {
    "duration": 22,
    "start_time": "2024-06-18T02:33:49.613Z"
   },
   {
    "duration": 1275,
    "start_time": "2024-06-18T02:34:10.586Z"
   },
   {
    "duration": 69,
    "start_time": "2024-06-18T02:34:11.864Z"
   },
   {
    "duration": 7,
    "start_time": "2024-06-18T02:34:11.937Z"
   },
   {
    "duration": 47,
    "start_time": "2024-06-18T02:34:11.956Z"
   },
   {
    "duration": 49,
    "start_time": "2024-06-18T02:34:12.007Z"
   },
   {
    "duration": 24,
    "start_time": "2024-06-18T02:41:07.992Z"
   },
   {
    "duration": 27,
    "start_time": "2024-06-18T02:41:28.883Z"
   },
   {
    "duration": 19,
    "start_time": "2024-06-18T02:41:43.104Z"
   },
   {
    "duration": 13,
    "start_time": "2024-06-18T02:41:59.648Z"
   },
   {
    "duration": 4988,
    "start_time": "2024-06-19T00:32:57.065Z"
   },
   {
    "duration": 86,
    "start_time": "2024-06-19T00:33:02.057Z"
   },
   {
    "duration": 6,
    "start_time": "2024-06-19T00:33:02.147Z"
   },
   {
    "duration": 43,
    "start_time": "2024-06-19T00:33:02.158Z"
   },
   {
    "duration": 68,
    "start_time": "2024-06-19T00:33:02.203Z"
   },
   {
    "duration": 21,
    "start_time": "2024-06-19T00:33:02.275Z"
   },
   {
    "duration": 1292,
    "start_time": "2024-06-19T01:42:37.996Z"
   },
   {
    "duration": 59,
    "start_time": "2024-06-19T01:42:39.292Z"
   },
   {
    "duration": 9,
    "start_time": "2024-06-19T01:42:39.354Z"
   },
   {
    "duration": 67,
    "start_time": "2024-06-19T01:42:39.369Z"
   },
   {
    "duration": 31,
    "start_time": "2024-06-19T01:42:39.439Z"
   },
   {
    "duration": 18,
    "start_time": "2024-06-19T01:42:39.473Z"
   },
   {
    "duration": 378,
    "start_time": "2024-06-19T01:45:47.198Z"
   },
   {
    "duration": 1404,
    "start_time": "2024-06-19T01:46:10.540Z"
   },
   {
    "duration": 93,
    "start_time": "2024-06-19T01:46:11.952Z"
   },
   {
    "duration": 9,
    "start_time": "2024-06-19T01:46:12.055Z"
   },
   {
    "duration": 51,
    "start_time": "2024-06-19T01:46:12.069Z"
   },
   {
    "duration": 31,
    "start_time": "2024-06-19T01:46:12.131Z"
   },
   {
    "duration": 17,
    "start_time": "2024-06-19T01:46:12.165Z"
   },
   {
    "duration": 30880,
    "start_time": "2024-06-19T01:46:12.188Z"
   },
   {
    "duration": 1381,
    "start_time": "2024-06-19T01:47:03.316Z"
   },
   {
    "duration": 71,
    "start_time": "2024-06-19T01:47:04.701Z"
   },
   {
    "duration": 6,
    "start_time": "2024-06-19T01:47:04.775Z"
   },
   {
    "duration": 69,
    "start_time": "2024-06-19T01:47:04.786Z"
   },
   {
    "duration": 30,
    "start_time": "2024-06-19T01:47:04.858Z"
   },
   {
    "duration": 41,
    "start_time": "2024-06-19T01:47:04.891Z"
   },
   {
    "duration": 20,
    "start_time": "2024-06-19T01:47:04.935Z"
   },
   {
    "duration": 1278,
    "start_time": "2024-06-19T01:51:14.468Z"
   },
   {
    "duration": 53,
    "start_time": "2024-06-19T01:51:15.750Z"
   },
   {
    "duration": 24,
    "start_time": "2024-06-19T01:51:15.807Z"
   },
   {
    "duration": 42,
    "start_time": "2024-06-19T01:51:15.835Z"
   },
   {
    "duration": 52,
    "start_time": "2024-06-19T01:51:15.882Z"
   },
   {
    "duration": 16,
    "start_time": "2024-06-19T01:51:15.937Z"
   },
   {
    "duration": 1424,
    "start_time": "2024-06-19T01:52:07.344Z"
   },
   {
    "duration": 71,
    "start_time": "2024-06-19T01:52:08.772Z"
   },
   {
    "duration": 5,
    "start_time": "2024-06-19T01:52:08.847Z"
   },
   {
    "duration": 53,
    "start_time": "2024-06-19T01:52:08.855Z"
   },
   {
    "duration": 29,
    "start_time": "2024-06-19T01:52:08.933Z"
   },
   {
    "duration": 18,
    "start_time": "2024-06-19T01:52:08.965Z"
   },
   {
    "duration": 316,
    "start_time": "2024-06-19T01:52:08.986Z"
   },
   {
    "duration": 965,
    "start_time": "2024-06-19T01:52:47.711Z"
   },
   {
    "duration": 16470,
    "start_time": "2024-06-19T01:53:17.435Z"
   },
   {
    "duration": 6,
    "start_time": "2024-06-19T01:56:07.196Z"
   },
   {
    "duration": 18,
    "start_time": "2024-06-19T01:56:32.077Z"
   },
   {
    "duration": 1247,
    "start_time": "2024-06-19T01:58:05.931Z"
   },
   {
    "duration": 1592,
    "start_time": "2024-06-19T01:58:32.603Z"
   },
   {
    "duration": 258,
    "start_time": "2024-06-19T02:03:10.803Z"
   },
   {
    "duration": 480,
    "start_time": "2024-06-19T02:04:45.619Z"
   },
   {
    "duration": 516,
    "start_time": "2024-06-19T02:04:55.463Z"
   },
   {
    "duration": 510,
    "start_time": "2024-06-19T02:06:05.067Z"
   },
   {
    "duration": 513,
    "start_time": "2024-06-19T02:07:18.221Z"
   },
   {
    "duration": 542,
    "start_time": "2024-06-19T02:10:53.281Z"
   },
   {
    "duration": 483,
    "start_time": "2024-06-19T02:11:32.943Z"
   },
   {
    "duration": 493,
    "start_time": "2024-06-19T02:11:44.129Z"
   },
   {
    "duration": 484,
    "start_time": "2024-06-19T02:11:57.720Z"
   },
   {
    "duration": 540,
    "start_time": "2024-06-19T02:13:52.007Z"
   },
   {
    "duration": 14,
    "start_time": "2024-06-19T02:22:20.467Z"
   },
   {
    "duration": 36,
    "start_time": "2024-06-19T02:23:17.677Z"
   },
   {
    "duration": 10,
    "start_time": "2024-06-19T02:23:23.684Z"
   },
   {
    "duration": 14,
    "start_time": "2024-06-19T02:27:36.443Z"
   },
   {
    "duration": 1622,
    "start_time": "2024-06-19T02:28:38.932Z"
   },
   {
    "duration": 114,
    "start_time": "2024-06-19T02:28:56.536Z"
   },
   {
    "duration": 14,
    "start_time": "2024-06-19T02:29:15.867Z"
   },
   {
    "duration": 113,
    "start_time": "2024-06-19T02:29:33.538Z"
   },
   {
    "duration": 763,
    "start_time": "2024-06-19T02:30:15.451Z"
   },
   {
    "duration": 13,
    "start_time": "2024-06-19T02:31:07.842Z"
   },
   {
    "duration": 132,
    "start_time": "2024-06-19T02:31:18.676Z"
   },
   {
    "duration": 116,
    "start_time": "2024-06-19T02:31:22.253Z"
   },
   {
    "duration": 182,
    "start_time": "2024-06-19T02:31:26.631Z"
   },
   {
    "duration": 426,
    "start_time": "2024-06-19T02:32:16.293Z"
   },
   {
    "duration": 190,
    "start_time": "2024-06-19T02:33:03.213Z"
   },
   {
    "duration": 14,
    "start_time": "2024-06-19T02:33:58.900Z"
   },
   {
    "duration": 36,
    "start_time": "2024-06-19T02:34:14.980Z"
   },
   {
    "duration": 13,
    "start_time": "2024-06-19T02:34:21.397Z"
   },
   {
    "duration": 29,
    "start_time": "2024-06-19T02:34:35.930Z"
   },
   {
    "duration": 14,
    "start_time": "2024-06-19T02:34:45.656Z"
   },
   {
    "duration": 5,
    "start_time": "2024-06-19T02:35:05.982Z"
   },
   {
    "duration": 10,
    "start_time": "2024-06-19T02:35:58.564Z"
   },
   {
    "duration": 13,
    "start_time": "2024-06-19T02:36:02.781Z"
   },
   {
    "duration": 38,
    "start_time": "2024-06-19T02:45:06.791Z"
   },
   {
    "duration": 9,
    "start_time": "2024-06-19T02:46:14.217Z"
   },
   {
    "duration": 38,
    "start_time": "2024-06-19T02:46:28.953Z"
   },
   {
    "duration": 36,
    "start_time": "2024-06-19T02:47:38.898Z"
   },
   {
    "duration": 1258,
    "start_time": "2024-06-19T02:48:05.979Z"
   },
   {
    "duration": 58,
    "start_time": "2024-06-19T02:48:07.240Z"
   },
   {
    "duration": 5,
    "start_time": "2024-06-19T02:48:07.301Z"
   },
   {
    "duration": 45,
    "start_time": "2024-06-19T02:48:07.331Z"
   },
   {
    "duration": 50,
    "start_time": "2024-06-19T02:48:07.381Z"
   },
   {
    "duration": 16,
    "start_time": "2024-06-19T02:48:07.435Z"
   },
   {
    "duration": 527,
    "start_time": "2024-06-19T02:48:07.455Z"
   },
   {
    "duration": 512,
    "start_time": "2024-06-19T02:48:07.987Z"
   },
   {
    "duration": 13,
    "start_time": "2024-06-19T02:48:34.658Z"
   },
   {
    "duration": 31,
    "start_time": "2024-06-19T02:53:05.727Z"
   },
   {
    "duration": 203,
    "start_time": "2024-06-19T02:53:25.916Z"
   },
   {
    "duration": 276,
    "start_time": "2024-06-19T02:55:20.171Z"
   },
   {
    "duration": 223,
    "start_time": "2024-06-19T02:58:52.260Z"
   },
   {
    "duration": 30,
    "start_time": "2024-06-19T02:59:56.427Z"
   },
   {
    "duration": 218,
    "start_time": "2024-06-19T03:00:08.555Z"
   },
   {
    "duration": 221,
    "start_time": "2024-06-19T03:01:33.136Z"
   },
   {
    "duration": 240,
    "start_time": "2024-06-19T03:01:50.305Z"
   },
   {
    "duration": 8,
    "start_time": "2024-06-19T03:04:01.302Z"
   },
   {
    "duration": 11135,
    "start_time": "2024-06-19T03:04:13.034Z"
   },
   {
    "duration": 12813,
    "start_time": "2024-06-19T03:04:32.151Z"
   },
   {
    "duration": 332,
    "start_time": "2024-06-19T03:04:55.752Z"
   },
   {
    "duration": 310,
    "start_time": "2024-06-19T03:43:32.252Z"
   },
   {
    "duration": 5002,
    "start_time": "2024-06-19T03:44:55.101Z"
   },
   {
    "duration": 70,
    "start_time": "2024-06-19T03:45:00.107Z"
   },
   {
    "duration": 5,
    "start_time": "2024-06-19T03:45:00.181Z"
   },
   {
    "duration": 41,
    "start_time": "2024-06-19T03:45:00.201Z"
   },
   {
    "duration": 27,
    "start_time": "2024-06-19T03:45:00.245Z"
   },
   {
    "duration": 16,
    "start_time": "2024-06-19T03:45:00.302Z"
   },
   {
    "duration": 530,
    "start_time": "2024-06-19T03:45:00.322Z"
   },
   {
    "duration": 248,
    "start_time": "2024-06-19T03:45:00.857Z"
   },
   {
    "duration": 1135,
    "start_time": "2024-06-19T03:50:24.249Z"
   },
   {
    "duration": 115,
    "start_time": "2024-06-19T03:51:15.878Z"
   },
   {
    "duration": 115,
    "start_time": "2024-06-19T03:51:31.857Z"
   },
   {
    "duration": 102,
    "start_time": "2024-06-19T03:51:43.370Z"
   },
   {
    "duration": 474,
    "start_time": "2024-06-19T03:52:03.899Z"
   },
   {
    "duration": 101,
    "start_time": "2024-06-19T03:52:32.844Z"
   },
   {
    "duration": 242,
    "start_time": "2024-06-19T03:53:17.984Z"
   },
   {
    "duration": 103,
    "start_time": "2024-06-19T03:53:38.878Z"
   },
   {
    "duration": 50,
    "start_time": "2024-06-19T03:57:34.006Z"
   },
   {
    "duration": 838,
    "start_time": "2024-06-19T03:57:49.911Z"
   },
   {
    "duration": 779,
    "start_time": "2024-06-19T03:58:33.279Z"
   },
   {
    "duration": 3910,
    "start_time": "2024-06-19T04:00:29.427Z"
   },
   {
    "duration": 4198,
    "start_time": "2024-06-19T04:10:18.159Z"
   },
   {
    "duration": 7,
    "start_time": "2024-06-19T04:11:49.887Z"
   },
   {
    "duration": 4072,
    "start_time": "2024-06-19T04:11:59.578Z"
   },
   {
    "duration": 4177,
    "start_time": "2024-06-19T04:12:27.839Z"
   },
   {
    "duration": 4081,
    "start_time": "2024-06-19T04:12:43.561Z"
   },
   {
    "duration": 4212,
    "start_time": "2024-06-19T04:12:56.268Z"
   },
   {
    "duration": 4217,
    "start_time": "2024-06-19T04:13:54.754Z"
   },
   {
    "duration": 4036,
    "start_time": "2024-06-19T04:14:08.228Z"
   },
   {
    "duration": 936,
    "start_time": "2024-06-19T04:14:35.910Z"
   },
   {
    "duration": 199,
    "start_time": "2024-06-19T04:15:27.155Z"
   },
   {
    "duration": 48,
    "start_time": "2024-06-19T04:16:06.237Z"
   },
   {
    "duration": 1175,
    "start_time": "2024-06-19T04:16:30.615Z"
   },
   {
    "duration": 868,
    "start_time": "2024-06-19T04:18:44.407Z"
   },
   {
    "duration": 840,
    "start_time": "2024-06-19T04:18:50.961Z"
   },
   {
    "duration": 920,
    "start_time": "2024-06-19T04:19:26.622Z"
   },
   {
    "duration": 1056,
    "start_time": "2024-06-19T04:20:26.824Z"
   },
   {
    "duration": 402,
    "start_time": "2024-06-19T04:20:35.977Z"
   },
   {
    "duration": 39,
    "start_time": "2024-06-19T04:21:44.324Z"
   },
   {
    "duration": 943,
    "start_time": "2024-06-19T04:21:49.895Z"
   },
   {
    "duration": 851,
    "start_time": "2024-06-19T04:21:58.449Z"
   },
   {
    "duration": 917,
    "start_time": "2024-06-19T04:22:43.173Z"
   },
   {
    "duration": 1331,
    "start_time": "2024-06-19T04:24:04.499Z"
   },
   {
    "duration": 1246,
    "start_time": "2024-06-19T04:24:36.804Z"
   },
   {
    "duration": 441,
    "start_time": "2024-06-19T04:25:45.454Z"
   },
   {
    "duration": 807,
    "start_time": "2024-06-19T04:26:23.122Z"
   },
   {
    "duration": 591,
    "start_time": "2024-06-19T04:26:31.965Z"
   },
   {
    "duration": 674,
    "start_time": "2024-06-19T04:26:37.832Z"
   },
   {
    "duration": 595,
    "start_time": "2024-06-19T04:26:51.901Z"
   },
   {
    "duration": 530,
    "start_time": "2024-06-19T04:26:59.194Z"
   },
   {
    "duration": 442,
    "start_time": "2024-06-19T04:27:15.944Z"
   },
   {
    "duration": 491,
    "start_time": "2024-06-19T04:28:41.726Z"
   },
   {
    "duration": 547,
    "start_time": "2024-06-19T04:29:06.455Z"
   },
   {
    "duration": 529,
    "start_time": "2024-06-19T04:29:18.641Z"
   },
   {
    "duration": 519,
    "start_time": "2024-06-19T04:30:06.014Z"
   },
   {
    "duration": 515,
    "start_time": "2024-06-19T04:32:12.210Z"
   },
   {
    "duration": 499,
    "start_time": "2024-06-19T04:33:13.622Z"
   },
   {
    "duration": 652,
    "start_time": "2024-06-19T04:34:07.910Z"
   },
   {
    "duration": 488,
    "start_time": "2024-06-19T04:34:42.075Z"
   },
   {
    "duration": 350,
    "start_time": "2024-06-19T04:37:10.934Z"
   },
   {
    "duration": 378,
    "start_time": "2024-06-19T04:37:54.870Z"
   },
   {
    "duration": 377,
    "start_time": "2024-06-19T04:38:04.580Z"
   },
   {
    "duration": 816,
    "start_time": "2024-06-19T04:38:33.245Z"
   },
   {
    "duration": 685,
    "start_time": "2024-06-19T04:38:51.072Z"
   },
   {
    "duration": 622,
    "start_time": "2024-06-19T04:38:59.102Z"
   },
   {
    "duration": 624,
    "start_time": "2024-06-19T04:42:24.048Z"
   },
   {
    "duration": 611,
    "start_time": "2024-06-19T04:42:57.551Z"
   },
   {
    "duration": 748,
    "start_time": "2024-06-19T04:43:12.872Z"
   },
   {
    "duration": 2018,
    "start_time": "2024-06-19T04:44:49.443Z"
   },
   {
    "duration": 464,
    "start_time": "2024-06-19T04:44:56.817Z"
   },
   {
    "duration": 463,
    "start_time": "2024-06-19T04:45:06.841Z"
   },
   {
    "duration": 587,
    "start_time": "2024-06-19T04:45:34.131Z"
   },
   {
    "duration": 402,
    "start_time": "2024-06-19T04:45:43.946Z"
   },
   {
    "duration": 399,
    "start_time": "2024-06-19T04:45:54.169Z"
   },
   {
    "duration": 768,
    "start_time": "2024-06-19T04:46:25.778Z"
   },
   {
    "duration": 584,
    "start_time": "2024-06-19T04:46:38.345Z"
   },
   {
    "duration": 584,
    "start_time": "2024-06-19T04:46:55.553Z"
   },
   {
    "duration": 505,
    "start_time": "2024-06-19T04:49:16.853Z"
   },
   {
    "duration": 480,
    "start_time": "2024-06-19T04:49:52.900Z"
   },
   {
    "duration": 440,
    "start_time": "2024-06-19T04:50:09.904Z"
   },
   {
    "duration": 567,
    "start_time": "2024-06-19T04:50:17.470Z"
   },
   {
    "duration": 337,
    "start_time": "2024-06-20T00:19:58.622Z"
   },
   {
    "duration": 4995,
    "start_time": "2024-06-20T00:20:07.206Z"
   },
   {
    "duration": 67,
    "start_time": "2024-06-20T00:20:12.205Z"
   },
   {
    "duration": 6,
    "start_time": "2024-06-20T00:20:12.275Z"
   },
   {
    "duration": 52,
    "start_time": "2024-06-20T00:20:12.285Z"
   },
   {
    "duration": 25,
    "start_time": "2024-06-20T00:20:12.342Z"
   },
   {
    "duration": 40,
    "start_time": "2024-06-20T00:20:12.369Z"
   },
   {
    "duration": 539,
    "start_time": "2024-06-20T00:20:12.412Z"
   },
   {
    "duration": 548,
    "start_time": "2024-06-20T00:20:12.954Z"
   },
   {
    "duration": 514,
    "start_time": "2024-06-20T00:23:07.744Z"
   },
   {
    "duration": 560,
    "start_time": "2024-06-20T00:55:40.634Z"
   },
   {
    "duration": 488,
    "start_time": "2024-06-20T00:59:47.053Z"
   },
   {
    "duration": 501,
    "start_time": "2024-06-20T01:05:54.570Z"
   },
   {
    "duration": 503,
    "start_time": "2024-06-20T01:06:04.898Z"
   },
   {
    "duration": 473,
    "start_time": "2024-06-20T01:12:01.686Z"
   },
   {
    "duration": 448,
    "start_time": "2024-06-20T01:12:20.306Z"
   },
   {
    "duration": 509,
    "start_time": "2024-06-20T01:12:39.451Z"
   },
   {
    "duration": 400,
    "start_time": "2024-06-20T01:13:39.530Z"
   },
   {
    "duration": 443,
    "start_time": "2024-06-20T01:14:18.061Z"
   },
   {
    "duration": 345,
    "start_time": "2024-06-20T01:36:03.216Z"
   },
   {
    "duration": 437,
    "start_time": "2024-06-20T01:36:12.279Z"
   },
   {
    "duration": 584,
    "start_time": "2024-06-20T01:36:38.045Z"
   },
   {
    "duration": 80,
    "start_time": "2024-06-20T01:36:47.149Z"
   },
   {
    "duration": 421,
    "start_time": "2024-06-20T01:36:57.587Z"
   },
   {
    "duration": 387,
    "start_time": "2024-06-20T01:37:51.188Z"
   },
   {
    "duration": 462,
    "start_time": "2024-06-20T01:38:45.620Z"
   },
   {
    "duration": 646,
    "start_time": "2024-06-20T01:38:50.910Z"
   },
   {
    "duration": 486,
    "start_time": "2024-06-20T01:39:02.962Z"
   },
   {
    "duration": 495,
    "start_time": "2024-06-20T01:39:11.624Z"
   },
   {
    "duration": 505,
    "start_time": "2024-06-20T01:39:36.206Z"
   },
   {
    "duration": 1031,
    "start_time": "2024-06-20T01:41:41.427Z"
   },
   {
    "duration": 581,
    "start_time": "2024-06-20T01:41:55.388Z"
   },
   {
    "duration": 477,
    "start_time": "2024-06-20T02:01:11.151Z"
   },
   {
    "duration": 461,
    "start_time": "2024-06-20T02:01:14.963Z"
   },
   {
    "duration": 20,
    "start_time": "2024-06-20T02:07:58.825Z"
   },
   {
    "duration": 478,
    "start_time": "2024-06-20T02:08:41.386Z"
   },
   {
    "duration": 8,
    "start_time": "2024-06-20T02:08:48.862Z"
   },
   {
    "duration": 25,
    "start_time": "2024-06-20T02:09:52.176Z"
   },
   {
    "duration": 23,
    "start_time": "2024-06-20T02:10:27.580Z"
   },
   {
    "duration": 21,
    "start_time": "2024-06-20T02:10:35.449Z"
   },
   {
    "duration": 1273,
    "start_time": "2024-06-20T02:11:18.315Z"
   },
   {
    "duration": 58,
    "start_time": "2024-06-20T02:11:19.591Z"
   },
   {
    "duration": 5,
    "start_time": "2024-06-20T02:11:19.652Z"
   },
   {
    "duration": 61,
    "start_time": "2024-06-20T02:11:19.661Z"
   },
   {
    "duration": 25,
    "start_time": "2024-06-20T02:11:19.727Z"
   },
   {
    "duration": 15,
    "start_time": "2024-06-20T02:11:19.755Z"
   },
   {
    "duration": 512,
    "start_time": "2024-06-20T02:11:19.802Z"
   },
   {
    "duration": 573,
    "start_time": "2024-06-20T02:11:20.317Z"
   },
   {
    "duration": 12,
    "start_time": "2024-06-20T02:11:20.893Z"
   },
   {
    "duration": 1244,
    "start_time": "2024-06-20T02:11:44.369Z"
   },
   {
    "duration": 52,
    "start_time": "2024-06-20T02:11:45.617Z"
   },
   {
    "duration": 6,
    "start_time": "2024-06-20T02:11:45.672Z"
   },
   {
    "duration": 43,
    "start_time": "2024-06-20T02:11:45.703Z"
   },
   {
    "duration": 25,
    "start_time": "2024-06-20T02:11:45.750Z"
   },
   {
    "duration": 15,
    "start_time": "2024-06-20T02:11:45.803Z"
   },
   {
    "duration": 568,
    "start_time": "2024-06-20T02:11:45.833Z"
   },
   {
    "duration": 573,
    "start_time": "2024-06-20T02:11:46.409Z"
   },
   {
    "duration": 6,
    "start_time": "2024-06-20T02:11:46.986Z"
   },
   {
    "duration": 12,
    "start_time": "2024-06-20T02:11:46.996Z"
   },
   {
    "duration": 12,
    "start_time": "2024-06-20T02:13:05.284Z"
   },
   {
    "duration": 12,
    "start_time": "2024-06-20T02:13:40.252Z"
   },
   {
    "duration": 12,
    "start_time": "2024-06-20T02:15:17.956Z"
   },
   {
    "duration": 12,
    "start_time": "2024-06-20T02:15:41.743Z"
   },
   {
    "duration": 13,
    "start_time": "2024-06-20T02:16:02.095Z"
   },
   {
    "duration": 612,
    "start_time": "2024-06-20T02:18:06.170Z"
   },
   {
    "duration": 515,
    "start_time": "2024-06-20T02:18:43.163Z"
   },
   {
    "duration": 442,
    "start_time": "2024-06-20T02:19:28.432Z"
   },
   {
    "duration": 419,
    "start_time": "2024-06-20T02:23:00.971Z"
   },
   {
    "duration": 391,
    "start_time": "2024-06-20T02:24:25.272Z"
   },
   {
    "duration": 1389,
    "start_time": "2024-06-20T02:52:59.153Z"
   },
   {
    "duration": 66,
    "start_time": "2024-06-20T02:53:00.549Z"
   },
   {
    "duration": 5,
    "start_time": "2024-06-20T02:53:00.618Z"
   },
   {
    "duration": 89,
    "start_time": "2024-06-20T02:53:00.629Z"
   },
   {
    "duration": 34,
    "start_time": "2024-06-20T02:53:00.722Z"
   },
   {
    "duration": 18,
    "start_time": "2024-06-20T02:53:00.760Z"
   },
   {
    "duration": 558,
    "start_time": "2024-06-20T02:53:00.782Z"
   },
   {
    "duration": 587,
    "start_time": "2024-06-20T02:53:01.343Z"
   },
   {
    "duration": 7,
    "start_time": "2024-06-20T02:53:01.933Z"
   },
   {
    "duration": 408,
    "start_time": "2024-06-20T02:53:01.945Z"
   },
   {
    "duration": 0,
    "start_time": "2024-06-20T02:53:02.356Z"
   },
   {
    "duration": 5230,
    "start_time": "2024-06-20T04:08:15.476Z"
   },
   {
    "duration": 69,
    "start_time": "2024-06-20T04:08:20.710Z"
   },
   {
    "duration": 8,
    "start_time": "2024-06-20T04:08:20.782Z"
   },
   {
    "duration": 45,
    "start_time": "2024-06-20T04:08:20.792Z"
   },
   {
    "duration": 25,
    "start_time": "2024-06-20T04:08:20.841Z"
   },
   {
    "duration": 44,
    "start_time": "2024-06-20T04:08:20.869Z"
   },
   {
    "duration": 536,
    "start_time": "2024-06-20T04:08:20.916Z"
   },
   {
    "duration": 507,
    "start_time": "2024-06-20T04:08:21.456Z"
   },
   {
    "duration": 7,
    "start_time": "2024-06-20T04:08:21.966Z"
   },
   {
    "duration": 407,
    "start_time": "2024-06-20T04:08:21.976Z"
   },
   {
    "duration": 21,
    "start_time": "2024-06-20T04:08:22.387Z"
   },
   {
    "duration": 13,
    "start_time": "2024-06-20T04:14:10.915Z"
   },
   {
    "duration": 4947,
    "start_time": "2024-06-22T02:56:19.893Z"
   },
   {
    "duration": 68,
    "start_time": "2024-06-22T02:56:24.844Z"
   },
   {
    "duration": 6,
    "start_time": "2024-06-22T02:56:24.915Z"
   },
   {
    "duration": 41,
    "start_time": "2024-06-22T02:56:24.926Z"
   },
   {
    "duration": 54,
    "start_time": "2024-06-22T02:56:24.969Z"
   },
   {
    "duration": 15,
    "start_time": "2024-06-22T02:56:25.027Z"
   },
   {
    "duration": 524,
    "start_time": "2024-06-22T02:56:25.045Z"
   },
   {
    "duration": 511,
    "start_time": "2024-06-22T02:56:25.572Z"
   },
   {
    "duration": 8,
    "start_time": "2024-06-22T02:56:26.086Z"
   },
   {
    "duration": 473,
    "start_time": "2024-06-22T02:56:26.098Z"
   },
   {
    "duration": 10,
    "start_time": "2024-06-22T02:56:26.573Z"
   },
   {
    "duration": 147,
    "start_time": "2024-06-22T02:59:31.335Z"
   },
   {
    "duration": 5,
    "start_time": "2024-06-22T03:01:36.762Z"
   },
   {
    "duration": 435,
    "start_time": "2024-06-22T03:01:43.855Z"
   },
   {
    "duration": 717,
    "start_time": "2024-06-22T03:01:50.644Z"
   },
   {
    "duration": 243,
    "start_time": "2024-06-22T03:02:20.108Z"
   },
   {
    "duration": 235,
    "start_time": "2024-06-22T03:04:07.262Z"
   },
   {
    "duration": 233,
    "start_time": "2024-06-22T03:04:22.373Z"
   },
   {
    "duration": 150,
    "start_time": "2024-06-22T03:05:56.382Z"
   },
   {
    "duration": 155,
    "start_time": "2024-06-22T03:06:16.671Z"
   },
   {
    "duration": 145,
    "start_time": "2024-06-22T03:06:45.046Z"
   },
   {
    "duration": 157,
    "start_time": "2024-06-22T03:06:56.151Z"
   },
   {
    "duration": 147,
    "start_time": "2024-06-22T03:08:03.233Z"
   },
   {
    "duration": 160,
    "start_time": "2024-06-22T03:08:15.471Z"
   },
   {
    "duration": 154,
    "start_time": "2024-06-22T03:08:29.174Z"
   },
   {
    "duration": 144,
    "start_time": "2024-06-22T03:08:36.321Z"
   },
   {
    "duration": 158,
    "start_time": "2024-06-22T03:25:59.372Z"
   },
   {
    "duration": 473,
    "start_time": "2024-06-22T03:28:25.170Z"
   },
   {
    "duration": 19,
    "start_time": "2024-06-22T03:33:09.635Z"
   },
   {
    "duration": 1474,
    "start_time": "2024-06-22T03:33:49.507Z"
   },
   {
    "duration": 229,
    "start_time": "2024-06-22T03:34:13.208Z"
   },
   {
    "duration": 481,
    "start_time": "2024-06-22T03:36:38.412Z"
   },
   {
    "duration": 484,
    "start_time": "2024-06-22T03:36:46.625Z"
   },
   {
    "duration": 507,
    "start_time": "2024-06-22T03:37:00.999Z"
   },
   {
    "duration": 459,
    "start_time": "2024-06-22T03:37:32.549Z"
   },
   {
    "duration": 478,
    "start_time": "2024-06-22T03:37:48.732Z"
   },
   {
    "duration": 536,
    "start_time": "2024-06-22T03:38:07.516Z"
   },
   {
    "duration": 456,
    "start_time": "2024-06-22T03:38:35.675Z"
   },
   {
    "duration": 458,
    "start_time": "2024-06-22T03:41:15.222Z"
   },
   {
    "duration": 448,
    "start_time": "2024-06-22T03:42:15.247Z"
   },
   {
    "duration": 457,
    "start_time": "2024-06-22T03:42:29.119Z"
   },
   {
    "duration": 453,
    "start_time": "2024-06-22T03:42:37.305Z"
   },
   {
    "duration": 13,
    "start_time": "2024-06-22T03:50:07.707Z"
   },
   {
    "duration": 450,
    "start_time": "2024-06-22T03:50:58.010Z"
   },
   {
    "duration": 13,
    "start_time": "2024-06-22T03:51:18.617Z"
   },
   {
    "duration": 12,
    "start_time": "2024-06-22T03:52:14.536Z"
   },
   {
    "duration": 764,
    "start_time": "2024-06-22T03:52:36.445Z"
   },
   {
    "duration": 12,
    "start_time": "2024-06-22T03:52:47.268Z"
   },
   {
    "duration": 7,
    "start_time": "2024-06-22T03:52:57.824Z"
   },
   {
    "duration": 13,
    "start_time": "2024-06-22T03:53:02.663Z"
   },
   {
    "duration": 23,
    "start_time": "2024-06-22T03:55:04.179Z"
   },
   {
    "duration": 26,
    "start_time": "2024-06-22T03:56:54.514Z"
   },
   {
    "duration": 27,
    "start_time": "2024-06-22T03:56:57.442Z"
   },
   {
    "duration": 267,
    "start_time": "2024-06-22T03:57:58.430Z"
   },
   {
    "duration": 224,
    "start_time": "2024-06-22T03:58:33.344Z"
   },
   {
    "duration": 225,
    "start_time": "2024-06-22T03:59:00.589Z"
   },
   {
    "duration": 226,
    "start_time": "2024-06-22T03:59:05.732Z"
   },
   {
    "duration": 303,
    "start_time": "2024-06-22T04:00:23.745Z"
   },
   {
    "duration": 455,
    "start_time": "2024-06-22T04:04:02.129Z"
   },
   {
    "duration": 523,
    "start_time": "2024-06-22T04:05:18.713Z"
   },
   {
    "duration": 9,
    "start_time": "2024-06-22T04:06:11.857Z"
   },
   {
    "duration": 528,
    "start_time": "2024-06-22T04:06:16.609Z"
   },
   {
    "duration": 658,
    "start_time": "2024-06-22T04:06:26.282Z"
   },
   {
    "duration": 453,
    "start_time": "2024-06-22T04:07:17.732Z"
   },
   {
    "duration": 469,
    "start_time": "2024-06-22T04:08:45.555Z"
   },
   {
    "duration": 622,
    "start_time": "2024-06-22T04:09:06.027Z"
   },
   {
    "duration": 827,
    "start_time": "2024-06-22T04:09:18.632Z"
   },
   {
    "duration": 634,
    "start_time": "2024-06-22T04:09:45.668Z"
   },
   {
    "duration": 475,
    "start_time": "2024-06-22T04:09:59.594Z"
   },
   {
    "duration": 666,
    "start_time": "2024-06-22T04:10:10.684Z"
   },
   {
    "duration": 611,
    "start_time": "2024-06-22T04:10:55.997Z"
   },
   {
    "duration": 645,
    "start_time": "2024-06-22T04:11:09.350Z"
   },
   {
    "duration": 650,
    "start_time": "2024-06-22T04:11:28.357Z"
   },
   {
    "duration": 624,
    "start_time": "2024-06-22T04:11:44.422Z"
   },
   {
    "duration": 611,
    "start_time": "2024-06-22T04:11:56.177Z"
   },
   {
    "duration": 430,
    "start_time": "2024-06-22T04:13:26.639Z"
   },
   {
    "duration": 10,
    "start_time": "2024-06-22T04:25:28.993Z"
   },
   {
    "duration": 9,
    "start_time": "2024-06-22T04:25:47.732Z"
   },
   {
    "duration": 14,
    "start_time": "2024-06-22T04:26:57.431Z"
   },
   {
    "duration": 18,
    "start_time": "2024-06-22T04:28:40.820Z"
   },
   {
    "duration": 17,
    "start_time": "2024-06-22T04:28:51.707Z"
   },
   {
    "duration": 17,
    "start_time": "2024-06-22T04:28:59.674Z"
   },
   {
    "duration": 17,
    "start_time": "2024-06-22T04:29:23.002Z"
   },
   {
    "duration": 276,
    "start_time": "2024-06-22T04:30:00.930Z"
   },
   {
    "duration": 262,
    "start_time": "2024-06-22T04:30:24.704Z"
   },
   {
    "duration": 261,
    "start_time": "2024-06-22T04:30:34.568Z"
   },
   {
    "duration": 264,
    "start_time": "2024-06-22T04:31:44.675Z"
   },
   {
    "duration": 500,
    "start_time": "2024-06-22T04:32:19.330Z"
   },
   {
    "duration": 285,
    "start_time": "2024-06-22T04:32:34.218Z"
   },
   {
    "duration": 9,
    "start_time": "2024-06-22T04:35:04.884Z"
   },
   {
    "duration": 311,
    "start_time": "2024-06-22T04:35:08.596Z"
   },
   {
    "duration": 278,
    "start_time": "2024-06-22T04:38:40.609Z"
   },
   {
    "duration": 278,
    "start_time": "2024-06-22T04:39:31.009Z"
   },
   {
    "duration": 260,
    "start_time": "2024-06-22T04:39:39.991Z"
   },
   {
    "duration": 4,
    "start_time": "2024-06-22T04:40:50.468Z"
   },
   {
    "duration": 4875,
    "start_time": "2024-06-28T18:35:51.532Z"
   },
   {
    "duration": 72,
    "start_time": "2024-06-28T18:35:56.412Z"
   },
   {
    "duration": 5,
    "start_time": "2024-06-28T18:35:56.487Z"
   },
   {
    "duration": 44,
    "start_time": "2024-06-28T18:35:56.497Z"
   },
   {
    "duration": 29,
    "start_time": "2024-06-28T18:35:56.545Z"
   },
   {
    "duration": 43,
    "start_time": "2024-06-28T18:35:56.577Z"
   },
   {
    "duration": 540,
    "start_time": "2024-06-28T18:35:56.623Z"
   },
   {
    "duration": 496,
    "start_time": "2024-06-28T18:35:57.166Z"
   },
   {
    "duration": 8,
    "start_time": "2024-06-28T18:35:57.666Z"
   },
   {
    "duration": 425,
    "start_time": "2024-06-28T18:35:57.681Z"
   },
   {
    "duration": 247,
    "start_time": "2024-06-28T18:35:58.110Z"
   },
   {
    "duration": 468,
    "start_time": "2024-06-28T18:35:58.360Z"
   },
   {
    "duration": 444,
    "start_time": "2024-06-28T18:35:58.832Z"
   },
   {
    "duration": 285,
    "start_time": "2024-06-28T18:35:59.279Z"
   },
   {
    "duration": 4,
    "start_time": "2024-06-28T18:35:59.567Z"
   },
   {
    "duration": 242,
    "start_time": "2024-06-28T18:38:23.165Z"
   },
   {
    "duration": 430,
    "start_time": "2024-06-28T18:38:29.144Z"
   },
   {
    "duration": 417,
    "start_time": "2024-06-28T18:39:04.566Z"
   },
   {
    "duration": 1223,
    "start_time": "2024-06-28T18:39:18.967Z"
   },
   {
    "duration": 58,
    "start_time": "2024-06-28T18:39:20.193Z"
   },
   {
    "duration": 6,
    "start_time": "2024-06-28T18:39:20.254Z"
   },
   {
    "duration": 66,
    "start_time": "2024-06-28T18:39:20.263Z"
   },
   {
    "duration": 25,
    "start_time": "2024-06-28T18:39:20.335Z"
   },
   {
    "duration": 41,
    "start_time": "2024-06-28T18:39:20.363Z"
   },
   {
    "duration": 525,
    "start_time": "2024-06-28T18:39:20.407Z"
   },
   {
    "duration": 559,
    "start_time": "2024-06-28T18:39:20.935Z"
   },
   {
    "duration": 7,
    "start_time": "2024-06-28T18:39:21.497Z"
   },
   {
    "duration": 428,
    "start_time": "2024-06-28T18:39:21.507Z"
   },
   {
    "duration": 168,
    "start_time": "2024-06-28T18:39:21.938Z"
   },
   {
    "duration": 456,
    "start_time": "2024-06-28T18:39:22.109Z"
   },
   {
    "duration": 448,
    "start_time": "2024-06-28T18:39:22.569Z"
   },
   {
    "duration": 282,
    "start_time": "2024-06-28T18:39:23.024Z"
   },
   {
    "duration": 5,
    "start_time": "2024-06-28T18:39:23.308Z"
   },
   {
    "duration": 423,
    "start_time": "2024-06-28T18:39:39.381Z"
   },
   {
    "duration": 11,
    "start_time": "2024-06-28T18:51:24.044Z"
   },
   {
    "duration": 707,
    "start_time": "2024-06-28T18:51:34.611Z"
   },
   {
    "duration": 10,
    "start_time": "2024-06-28T18:52:03.709Z"
   },
   {
    "duration": 786,
    "start_time": "2024-06-28T18:52:48.509Z"
   },
   {
    "duration": 144,
    "start_time": "2024-06-28T18:52:56.560Z"
   },
   {
    "duration": 17,
    "start_time": "2024-06-28T18:54:40.563Z"
   },
   {
    "duration": 362,
    "start_time": "2024-06-28T18:56:49.472Z"
   },
   {
    "duration": 361,
    "start_time": "2024-06-28T18:57:03.803Z"
   },
   {
    "duration": 342,
    "start_time": "2024-06-28T18:57:18.187Z"
   },
   {
    "duration": 345,
    "start_time": "2024-06-28T18:57:44.990Z"
   },
   {
    "duration": 347,
    "start_time": "2024-06-28T19:00:03.894Z"
   },
   {
    "duration": 345,
    "start_time": "2024-06-28T19:00:14.482Z"
   },
   {
    "duration": 839,
    "start_time": "2024-06-28T19:07:13.629Z"
   },
   {
    "duration": 339,
    "start_time": "2024-06-28T19:07:20.865Z"
   },
   {
    "duration": 18,
    "start_time": "2024-06-28T19:08:49.298Z"
   },
   {
    "duration": 19,
    "start_time": "2024-06-28T19:09:03.449Z"
   },
   {
    "duration": 19,
    "start_time": "2024-06-28T19:10:11.795Z"
   },
   {
    "duration": 18,
    "start_time": "2024-06-28T19:10:18.005Z"
   },
   {
    "duration": 18,
    "start_time": "2024-06-28T19:11:42.679Z"
   },
   {
    "duration": 31,
    "start_time": "2024-06-28T19:16:10.857Z"
   },
   {
    "duration": 39,
    "start_time": "2024-06-28T19:16:32.106Z"
   },
   {
    "duration": 341,
    "start_time": "2024-06-28T19:16:40.098Z"
   },
   {
    "duration": 376,
    "start_time": "2024-06-28T19:18:45.816Z"
   },
   {
    "duration": 1290,
    "start_time": "2024-06-28T19:18:56.867Z"
   },
   {
    "duration": 75,
    "start_time": "2024-06-28T19:18:58.162Z"
   },
   {
    "duration": 7,
    "start_time": "2024-06-28T19:18:58.245Z"
   },
   {
    "duration": 65,
    "start_time": "2024-06-28T19:18:58.258Z"
   },
   {
    "duration": 25,
    "start_time": "2024-06-28T19:18:58.326Z"
   },
   {
    "duration": 18,
    "start_time": "2024-06-28T19:18:58.354Z"
   },
   {
    "duration": 520,
    "start_time": "2024-06-28T19:18:58.375Z"
   },
   {
    "duration": 572,
    "start_time": "2024-06-28T19:18:58.898Z"
   },
   {
    "duration": 7,
    "start_time": "2024-06-28T19:18:59.473Z"
   },
   {
    "duration": 401,
    "start_time": "2024-06-28T19:18:59.486Z"
   },
   {
    "duration": 166,
    "start_time": "2024-06-28T19:18:59.890Z"
   },
   {
    "duration": 469,
    "start_time": "2024-06-28T19:19:00.059Z"
   },
   {
    "duration": 442,
    "start_time": "2024-06-28T19:19:00.531Z"
   },
   {
    "duration": 275,
    "start_time": "2024-06-28T19:19:00.977Z"
   },
   {
    "duration": 19,
    "start_time": "2024-06-28T19:19:01.255Z"
   },
   {
    "duration": 37,
    "start_time": "2024-06-28T19:19:01.277Z"
   },
   {
    "duration": 19,
    "start_time": "2024-06-28T19:19:01.317Z"
   },
   {
    "duration": 524,
    "start_time": "2024-06-28T19:19:01.339Z"
   },
   {
    "duration": 31,
    "start_time": "2024-06-28T19:20:44.902Z"
   },
   {
    "duration": 383,
    "start_time": "2024-06-28T19:20:51.749Z"
   },
   {
    "duration": 1297,
    "start_time": "2024-06-28T19:24:58.286Z"
   },
   {
    "duration": 58,
    "start_time": "2024-06-28T19:24:59.586Z"
   },
   {
    "duration": 5,
    "start_time": "2024-06-28T19:24:59.647Z"
   },
   {
    "duration": 65,
    "start_time": "2024-06-28T19:24:59.656Z"
   },
   {
    "duration": 27,
    "start_time": "2024-06-28T19:24:59.726Z"
   },
   {
    "duration": 43,
    "start_time": "2024-06-28T19:24:59.757Z"
   },
   {
    "duration": 534,
    "start_time": "2024-06-28T19:24:59.803Z"
   },
   {
    "duration": 566,
    "start_time": "2024-06-28T19:25:00.340Z"
   },
   {
    "duration": 8,
    "start_time": "2024-06-28T19:25:00.909Z"
   },
   {
    "duration": 445,
    "start_time": "2024-06-28T19:25:00.920Z"
   },
   {
    "duration": 169,
    "start_time": "2024-06-28T19:25:01.368Z"
   },
   {
    "duration": 467,
    "start_time": "2024-06-28T19:25:01.540Z"
   },
   {
    "duration": 463,
    "start_time": "2024-06-28T19:25:02.011Z"
   },
   {
    "duration": 273,
    "start_time": "2024-06-28T19:25:02.480Z"
   },
   {
    "duration": 49,
    "start_time": "2024-06-28T19:25:02.756Z"
   },
   {
    "duration": 8,
    "start_time": "2024-06-28T19:25:02.809Z"
   },
   {
    "duration": 7,
    "start_time": "2024-06-28T19:25:02.821Z"
   },
   {
    "duration": 8,
    "start_time": "2024-06-28T19:25:02.832Z"
   },
   {
    "duration": 213,
    "start_time": "2024-06-28T19:27:24.899Z"
   },
   {
    "duration": 19,
    "start_time": "2024-06-28T19:28:38.398Z"
   },
   {
    "duration": 20,
    "start_time": "2024-06-28T19:28:52.414Z"
   },
   {
    "duration": 1268,
    "start_time": "2024-06-28T19:31:11.637Z"
   },
   {
    "duration": 53,
    "start_time": "2024-06-28T19:31:12.909Z"
   },
   {
    "duration": 6,
    "start_time": "2024-06-28T19:31:12.965Z"
   },
   {
    "duration": 62,
    "start_time": "2024-06-28T19:31:12.975Z"
   },
   {
    "duration": 26,
    "start_time": "2024-06-28T19:31:13.041Z"
   },
   {
    "duration": 14,
    "start_time": "2024-06-28T19:31:13.101Z"
   },
   {
    "duration": 537,
    "start_time": "2024-06-28T19:31:13.118Z"
   },
   {
    "duration": 571,
    "start_time": "2024-06-28T19:31:13.659Z"
   },
   {
    "duration": 7,
    "start_time": "2024-06-28T19:31:14.233Z"
   },
   {
    "duration": 420,
    "start_time": "2024-06-28T19:31:14.244Z"
   },
   {
    "duration": 173,
    "start_time": "2024-06-28T19:31:14.667Z"
   },
   {
    "duration": 467,
    "start_time": "2024-06-28T19:31:14.842Z"
   },
   {
    "duration": 454,
    "start_time": "2024-06-28T19:31:15.312Z"
   },
   {
    "duration": 305,
    "start_time": "2024-06-28T19:31:15.772Z"
   },
   {
    "duration": 48,
    "start_time": "2024-06-28T19:31:16.080Z"
   },
   {
    "duration": 8,
    "start_time": "2024-06-28T19:31:16.131Z"
   },
   {
    "duration": 8,
    "start_time": "2024-06-28T19:31:16.142Z"
   },
   {
    "duration": 9,
    "start_time": "2024-06-28T19:31:16.153Z"
   },
   {
    "duration": 1290,
    "start_time": "2024-06-28T19:36:12.790Z"
   },
   {
    "duration": 56,
    "start_time": "2024-06-28T19:36:14.083Z"
   },
   {
    "duration": 6,
    "start_time": "2024-06-28T19:36:14.142Z"
   },
   {
    "duration": 69,
    "start_time": "2024-06-28T19:36:14.153Z"
   },
   {
    "duration": 25,
    "start_time": "2024-06-28T19:36:14.225Z"
   },
   {
    "duration": 16,
    "start_time": "2024-06-28T19:36:14.253Z"
   },
   {
    "duration": 529,
    "start_time": "2024-06-28T19:36:14.272Z"
   },
   {
    "duration": 574,
    "start_time": "2024-06-28T19:36:14.804Z"
   },
   {
    "duration": 8,
    "start_time": "2024-06-28T19:36:15.381Z"
   },
   {
    "duration": 410,
    "start_time": "2024-06-28T19:36:15.394Z"
   },
   {
    "duration": 174,
    "start_time": "2024-06-28T19:36:15.807Z"
   },
   {
    "duration": 501,
    "start_time": "2024-06-28T19:36:15.984Z"
   },
   {
    "duration": 437,
    "start_time": "2024-06-28T19:36:16.487Z"
   },
   {
    "duration": 292,
    "start_time": "2024-06-28T19:36:16.927Z"
   },
   {
    "duration": 33,
    "start_time": "2024-06-28T19:36:17.222Z"
   },
   {
    "duration": 8,
    "start_time": "2024-06-28T19:36:17.258Z"
   },
   {
    "duration": 36,
    "start_time": "2024-06-28T19:36:17.270Z"
   },
   {
    "duration": 11,
    "start_time": "2024-06-28T19:36:17.309Z"
   },
   {
    "duration": 37,
    "start_time": "2024-06-28T20:00:36.930Z"
   },
   {
    "duration": 1263,
    "start_time": "2024-06-28T20:00:43.524Z"
   },
   {
    "duration": 56,
    "start_time": "2024-06-28T20:00:44.791Z"
   },
   {
    "duration": 6,
    "start_time": "2024-06-28T20:00:44.850Z"
   },
   {
    "duration": 66,
    "start_time": "2024-06-28T20:00:44.861Z"
   },
   {
    "duration": 24,
    "start_time": "2024-06-28T20:00:44.930Z"
   },
   {
    "duration": 16,
    "start_time": "2024-06-28T20:00:44.957Z"
   },
   {
    "duration": 515,
    "start_time": "2024-06-28T20:00:45.002Z"
   },
   {
    "duration": 587,
    "start_time": "2024-06-28T20:00:45.520Z"
   },
   {
    "duration": 10,
    "start_time": "2024-06-28T20:00:46.112Z"
   },
   {
    "duration": 429,
    "start_time": "2024-06-28T20:00:46.129Z"
   },
   {
    "duration": 171,
    "start_time": "2024-06-28T20:00:46.561Z"
   },
   {
    "duration": 476,
    "start_time": "2024-06-28T20:00:46.735Z"
   },
   {
    "duration": 435,
    "start_time": "2024-06-28T20:00:47.214Z"
   },
   {
    "duration": 298,
    "start_time": "2024-06-28T20:00:47.652Z"
   },
   {
    "duration": 52,
    "start_time": "2024-06-28T20:00:47.953Z"
   },
   {
    "duration": 8,
    "start_time": "2024-06-28T20:00:48.007Z"
   },
   {
    "duration": 8,
    "start_time": "2024-06-28T20:00:48.019Z"
   },
   {
    "duration": 9,
    "start_time": "2024-06-28T20:00:48.030Z"
   },
   {
    "duration": 9,
    "start_time": "2024-06-28T20:01:13.111Z"
   },
   {
    "duration": 1313,
    "start_time": "2024-06-28T20:04:55.138Z"
   },
   {
    "duration": 64,
    "start_time": "2024-06-28T20:04:56.456Z"
   },
   {
    "duration": 6,
    "start_time": "2024-06-28T20:04:56.523Z"
   },
   {
    "duration": 41,
    "start_time": "2024-06-28T20:04:56.534Z"
   },
   {
    "duration": 26,
    "start_time": "2024-06-28T20:04:56.601Z"
   },
   {
    "duration": 15,
    "start_time": "2024-06-28T20:04:56.630Z"
   },
   {
    "duration": 544,
    "start_time": "2024-06-28T20:04:56.649Z"
   },
   {
    "duration": 563,
    "start_time": "2024-06-28T20:04:57.203Z"
   },
   {
    "duration": 7,
    "start_time": "2024-06-28T20:04:57.769Z"
   },
   {
    "duration": 425,
    "start_time": "2024-06-28T20:04:57.781Z"
   },
   {
    "duration": 175,
    "start_time": "2024-06-28T20:04:58.210Z"
   },
   {
    "duration": 485,
    "start_time": "2024-06-28T20:04:58.388Z"
   },
   {
    "duration": 456,
    "start_time": "2024-06-28T20:04:58.876Z"
   },
   {
    "duration": 302,
    "start_time": "2024-06-28T20:04:59.334Z"
   },
   {
    "duration": 37,
    "start_time": "2024-06-28T20:04:59.639Z"
   },
   {
    "duration": 8,
    "start_time": "2024-06-28T20:04:59.701Z"
   },
   {
    "duration": 7,
    "start_time": "2024-06-28T20:04:59.712Z"
   },
   {
    "duration": 9,
    "start_time": "2024-06-28T20:04:59.723Z"
   },
   {
    "duration": 1264,
    "start_time": "2024-06-28T21:47:20.316Z"
   },
   {
    "duration": 72,
    "start_time": "2024-06-28T21:47:21.584Z"
   },
   {
    "duration": 6,
    "start_time": "2024-06-28T21:47:21.659Z"
   },
   {
    "duration": 61,
    "start_time": "2024-06-28T21:47:21.668Z"
   },
   {
    "duration": 26,
    "start_time": "2024-06-28T21:47:21.733Z"
   },
   {
    "duration": 41,
    "start_time": "2024-06-28T21:47:21.763Z"
   },
   {
    "duration": 508,
    "start_time": "2024-06-28T21:47:21.807Z"
   },
   {
    "duration": 581,
    "start_time": "2024-06-28T21:47:22.317Z"
   },
   {
    "duration": 7,
    "start_time": "2024-06-28T21:47:22.901Z"
   },
   {
    "duration": 413,
    "start_time": "2024-06-28T21:47:22.911Z"
   },
   {
    "duration": 167,
    "start_time": "2024-06-28T21:47:23.327Z"
   },
   {
    "duration": 481,
    "start_time": "2024-06-28T21:47:23.502Z"
   },
   {
    "duration": 434,
    "start_time": "2024-06-28T21:47:23.986Z"
   },
   {
    "duration": 283,
    "start_time": "2024-06-28T21:47:24.426Z"
   },
   {
    "duration": 36,
    "start_time": "2024-06-28T21:47:24.712Z"
   },
   {
    "duration": 9,
    "start_time": "2024-06-28T21:47:24.751Z"
   },
   {
    "duration": 8,
    "start_time": "2024-06-28T21:47:24.764Z"
   },
   {
    "duration": 8,
    "start_time": "2024-06-28T21:47:24.804Z"
   },
   {
    "duration": 14,
    "start_time": "2024-06-28T21:47:24.816Z"
   },
   {
    "duration": 17,
    "start_time": "2024-06-28T21:50:00.214Z"
   },
   {
    "duration": 14,
    "start_time": "2024-06-28T21:55:04.139Z"
   },
   {
    "duration": 17,
    "start_time": "2024-06-28T21:57:15.010Z"
   },
   {
    "duration": 5227,
    "start_time": "2024-07-05T18:59:06.428Z"
   },
   {
    "duration": 76,
    "start_time": "2024-07-05T18:59:11.658Z"
   },
   {
    "duration": 6,
    "start_time": "2024-07-05T18:59:11.737Z"
   },
   {
    "duration": 47,
    "start_time": "2024-07-05T18:59:11.749Z"
   },
   {
    "duration": 27,
    "start_time": "2024-07-05T18:59:11.824Z"
   },
   {
    "duration": 17,
    "start_time": "2024-07-05T18:59:11.854Z"
   },
   {
    "duration": 567,
    "start_time": "2024-07-05T18:59:11.874Z"
   },
   {
    "duration": 574,
    "start_time": "2024-07-05T18:59:12.445Z"
   },
   {
    "duration": 7,
    "start_time": "2024-07-05T18:59:13.024Z"
   },
   {
    "duration": 511,
    "start_time": "2024-07-05T18:59:13.037Z"
   },
   {
    "duration": 186,
    "start_time": "2024-07-05T18:59:13.552Z"
   },
   {
    "duration": 503,
    "start_time": "2024-07-05T18:59:13.741Z"
   },
   {
    "duration": 457,
    "start_time": "2024-07-05T18:59:14.248Z"
   },
   {
    "duration": 327,
    "start_time": "2024-07-05T18:59:14.708Z"
   },
   {
    "duration": 41,
    "start_time": "2024-07-05T18:59:15.039Z"
   },
   {
    "duration": 8,
    "start_time": "2024-07-05T18:59:15.083Z"
   },
   {
    "duration": 8,
    "start_time": "2024-07-05T18:59:15.124Z"
   },
   {
    "duration": 7,
    "start_time": "2024-07-05T18:59:15.136Z"
   },
   {
    "duration": 18,
    "start_time": "2024-07-05T18:59:15.147Z"
   },
   {
    "duration": 58,
    "start_time": "2024-07-05T18:59:15.168Z"
   },
   {
    "duration": 227,
    "start_time": "2024-07-05T19:10:27.033Z"
   },
   {
    "duration": 1308,
    "start_time": "2024-07-05T19:10:36.581Z"
   },
   {
    "duration": 63,
    "start_time": "2024-07-05T19:10:37.894Z"
   },
   {
    "duration": 6,
    "start_time": "2024-07-05T19:10:37.960Z"
   },
   {
    "duration": 62,
    "start_time": "2024-07-05T19:10:37.975Z"
   },
   {
    "duration": 27,
    "start_time": "2024-07-05T19:10:38.042Z"
   },
   {
    "duration": 17,
    "start_time": "2024-07-05T19:10:38.072Z"
   },
   {
    "duration": 557,
    "start_time": "2024-07-05T19:10:38.092Z"
   },
   {
    "duration": 596,
    "start_time": "2024-07-05T19:10:38.652Z"
   },
   {
    "duration": 7,
    "start_time": "2024-07-05T19:10:39.251Z"
   },
   {
    "duration": 488,
    "start_time": "2024-07-05T19:10:39.262Z"
   },
   {
    "duration": 183,
    "start_time": "2024-07-05T19:10:39.758Z"
   },
   {
    "duration": 501,
    "start_time": "2024-07-05T19:10:39.944Z"
   },
   {
    "duration": 487,
    "start_time": "2024-07-05T19:10:40.449Z"
   },
   {
    "duration": 310,
    "start_time": "2024-07-05T19:10:40.942Z"
   },
   {
    "duration": 42,
    "start_time": "2024-07-05T19:10:41.256Z"
   },
   {
    "duration": 8,
    "start_time": "2024-07-05T19:10:41.322Z"
   },
   {
    "duration": 10,
    "start_time": "2024-07-05T19:10:41.334Z"
   },
   {
    "duration": 9,
    "start_time": "2024-07-05T19:10:41.347Z"
   },
   {
    "duration": 64,
    "start_time": "2024-07-05T19:10:41.360Z"
   },
   {
    "duration": 17,
    "start_time": "2024-07-05T19:10:41.427Z"
   },
   {
    "duration": 1382,
    "start_time": "2024-07-05T19:15:40.395Z"
   },
   {
    "duration": 68,
    "start_time": "2024-07-05T19:15:41.781Z"
   },
   {
    "duration": 7,
    "start_time": "2024-07-05T19:15:41.852Z"
   },
   {
    "duration": 70,
    "start_time": "2024-07-05T19:15:41.862Z"
   },
   {
    "duration": 27,
    "start_time": "2024-07-05T19:15:41.938Z"
   },
   {
    "duration": 17,
    "start_time": "2024-07-05T19:15:41.969Z"
   },
   {
    "duration": 523,
    "start_time": "2024-07-05T19:15:42.026Z"
   },
   {
    "duration": 644,
    "start_time": "2024-07-05T19:15:42.552Z"
   },
   {
    "duration": 7,
    "start_time": "2024-07-05T19:15:43.199Z"
   },
   {
    "duration": 416,
    "start_time": "2024-07-05T19:15:43.209Z"
   },
   {
    "duration": 189,
    "start_time": "2024-07-05T19:15:43.629Z"
   },
   {
    "duration": 485,
    "start_time": "2024-07-05T19:15:43.824Z"
   },
   {
    "duration": 463,
    "start_time": "2024-07-05T19:15:44.322Z"
   },
   {
    "duration": 321,
    "start_time": "2024-07-05T19:15:44.791Z"
   },
   {
    "duration": 60,
    "start_time": "2024-07-05T19:15:45.125Z"
   },
   {
    "duration": 35,
    "start_time": "2024-07-05T19:15:45.190Z"
   },
   {
    "duration": 10,
    "start_time": "2024-07-05T19:15:45.229Z"
   },
   {
    "duration": 9,
    "start_time": "2024-07-05T19:15:45.244Z"
   },
   {
    "duration": 20,
    "start_time": "2024-07-05T19:15:45.257Z"
   },
   {
    "duration": 17,
    "start_time": "2024-07-05T19:15:45.323Z"
   },
   {
    "duration": 3,
    "start_time": "2024-07-05T19:20:35.917Z"
   },
   {
    "duration": 17,
    "start_time": "2024-07-05T19:21:44.258Z"
   },
   {
    "duration": 14,
    "start_time": "2024-07-05T19:22:08.783Z"
   },
   {
    "duration": 1413,
    "start_time": "2024-07-05T19:50:24.404Z"
   },
   {
    "duration": 57,
    "start_time": "2024-07-05T19:50:25.822Z"
   },
   {
    "duration": 6,
    "start_time": "2024-07-05T19:50:25.882Z"
   },
   {
    "duration": 68,
    "start_time": "2024-07-05T19:50:25.893Z"
   },
   {
    "duration": 29,
    "start_time": "2024-07-05T19:50:25.966Z"
   },
   {
    "duration": 17,
    "start_time": "2024-07-05T19:50:26.022Z"
   },
   {
    "duration": 542,
    "start_time": "2024-07-05T19:50:26.042Z"
   },
   {
    "duration": 627,
    "start_time": "2024-07-05T19:50:26.589Z"
   },
   {
    "duration": 7,
    "start_time": "2024-07-05T19:50:27.219Z"
   },
   {
    "duration": 441,
    "start_time": "2024-07-05T19:50:27.230Z"
   },
   {
    "duration": 179,
    "start_time": "2024-07-05T19:50:27.675Z"
   },
   {
    "duration": 503,
    "start_time": "2024-07-05T19:50:27.858Z"
   },
   {
    "duration": 447,
    "start_time": "2024-07-05T19:50:28.364Z"
   },
   {
    "duration": 302,
    "start_time": "2024-07-05T19:50:28.822Z"
   },
   {
    "duration": 44,
    "start_time": "2024-07-05T19:50:29.128Z"
   },
   {
    "duration": 8,
    "start_time": "2024-07-05T19:50:29.177Z"
   },
   {
    "duration": 36,
    "start_time": "2024-07-05T19:50:29.189Z"
   },
   {
    "duration": 10,
    "start_time": "2024-07-05T19:50:29.229Z"
   },
   {
    "duration": 18,
    "start_time": "2024-07-05T19:50:29.244Z"
   },
   {
    "duration": 59,
    "start_time": "2024-07-05T19:50:29.266Z"
   },
   {
    "duration": 312,
    "start_time": "2024-07-09T04:27:04.639Z"
   },
   {
    "duration": 5099,
    "start_time": "2024-07-09T04:27:11.182Z"
   },
   {
    "duration": 79,
    "start_time": "2024-07-09T04:27:16.286Z"
   },
   {
    "duration": 6,
    "start_time": "2024-07-09T04:27:16.368Z"
   },
   {
    "duration": 53,
    "start_time": "2024-07-09T04:27:16.378Z"
   },
   {
    "duration": 25,
    "start_time": "2024-07-09T04:27:16.438Z"
   },
   {
    "duration": 41,
    "start_time": "2024-07-09T04:27:16.466Z"
   },
   {
    "duration": 1275,
    "start_time": "2024-07-09T04:27:16.509Z"
   },
   {
    "duration": 0,
    "start_time": "2024-07-09T04:27:17.788Z"
   },
   {
    "duration": 0,
    "start_time": "2024-07-09T04:27:17.790Z"
   },
   {
    "duration": 0,
    "start_time": "2024-07-09T04:27:17.802Z"
   },
   {
    "duration": 0,
    "start_time": "2024-07-09T04:27:17.804Z"
   },
   {
    "duration": 0,
    "start_time": "2024-07-09T04:27:17.807Z"
   },
   {
    "duration": 0,
    "start_time": "2024-07-09T04:27:17.810Z"
   },
   {
    "duration": 0,
    "start_time": "2024-07-09T04:27:17.813Z"
   },
   {
    "duration": 0,
    "start_time": "2024-07-09T04:27:17.815Z"
   },
   {
    "duration": 0,
    "start_time": "2024-07-09T04:27:17.818Z"
   },
   {
    "duration": 0,
    "start_time": "2024-07-09T04:27:17.820Z"
   },
   {
    "duration": 0,
    "start_time": "2024-07-09T04:27:17.822Z"
   },
   {
    "duration": 0,
    "start_time": "2024-07-09T04:27:17.825Z"
   },
   {
    "duration": 0,
    "start_time": "2024-07-09T04:27:17.827Z"
   },
   {
    "duration": 0,
    "start_time": "2024-07-09T04:27:17.830Z"
   },
   {
    "duration": 9,
    "start_time": "2024-07-09T04:27:33.243Z"
   },
   {
    "duration": 8,
    "start_time": "2024-07-09T04:27:40.060Z"
   },
   {
    "duration": 24,
    "start_time": "2024-07-09T04:34:28.125Z"
   },
   {
    "duration": 1329,
    "start_time": "2024-07-09T04:37:34.866Z"
   },
   {
    "duration": 58,
    "start_time": "2024-07-09T04:37:36.201Z"
   },
   {
    "duration": 6,
    "start_time": "2024-07-09T04:37:36.262Z"
   },
   {
    "duration": 72,
    "start_time": "2024-07-09T04:37:36.271Z"
   },
   {
    "duration": 24,
    "start_time": "2024-07-09T04:37:36.349Z"
   },
   {
    "duration": 40,
    "start_time": "2024-07-09T04:37:36.376Z"
   },
   {
    "duration": 22,
    "start_time": "2024-07-09T04:37:36.419Z"
   },
   {
    "duration": 540,
    "start_time": "2024-07-09T04:37:36.444Z"
   },
   {
    "duration": 591,
    "start_time": "2024-07-09T04:37:36.987Z"
   },
   {
    "duration": 7,
    "start_time": "2024-07-09T04:37:37.581Z"
   },
   {
    "duration": 410,
    "start_time": "2024-07-09T04:37:37.591Z"
   },
   {
    "duration": 179,
    "start_time": "2024-07-09T04:37:38.005Z"
   },
   {
    "duration": 477,
    "start_time": "2024-07-09T04:37:38.188Z"
   },
   {
    "duration": 436,
    "start_time": "2024-07-09T04:37:38.671Z"
   },
   {
    "duration": 303,
    "start_time": "2024-07-09T04:37:39.110Z"
   },
   {
    "duration": 37,
    "start_time": "2024-07-09T04:37:39.416Z"
   },
   {
    "duration": 8,
    "start_time": "2024-07-09T04:37:39.456Z"
   },
   {
    "duration": 40,
    "start_time": "2024-07-09T04:37:39.467Z"
   },
   {
    "duration": 8,
    "start_time": "2024-07-09T04:37:39.511Z"
   },
   {
    "duration": 18,
    "start_time": "2024-07-09T04:37:39.523Z"
   },
   {
    "duration": 17,
    "start_time": "2024-07-09T04:37:39.543Z"
   },
   {
    "duration": 400,
    "start_time": "2024-07-09T04:38:52.335Z"
   },
   {
    "duration": 479,
    "start_time": "2024-07-09T04:39:12.256Z"
   },
   {
    "duration": 1301,
    "start_time": "2024-07-09T04:42:35.126Z"
   },
   {
    "duration": 70,
    "start_time": "2024-07-09T04:42:36.433Z"
   },
   {
    "duration": 7,
    "start_time": "2024-07-09T04:42:36.508Z"
   },
   {
    "duration": 54,
    "start_time": "2024-07-09T04:42:36.517Z"
   },
   {
    "duration": 58,
    "start_time": "2024-07-09T04:42:36.576Z"
   },
   {
    "duration": 18,
    "start_time": "2024-07-09T04:42:36.637Z"
   },
   {
    "duration": 60,
    "start_time": "2024-07-09T04:42:36.658Z"
   },
   {
    "duration": 628,
    "start_time": "2024-07-09T04:42:36.721Z"
   },
   {
    "duration": 626,
    "start_time": "2024-07-09T04:42:37.352Z"
   },
   {
    "duration": 7,
    "start_time": "2024-07-09T04:42:37.982Z"
   },
   {
    "duration": 432,
    "start_time": "2024-07-09T04:42:37.992Z"
   },
   {
    "duration": 174,
    "start_time": "2024-07-09T04:42:38.427Z"
   },
   {
    "duration": 471,
    "start_time": "2024-07-09T04:42:38.604Z"
   },
   {
    "duration": 445,
    "start_time": "2024-07-09T04:42:39.081Z"
   },
   {
    "duration": 285,
    "start_time": "2024-07-09T04:42:39.529Z"
   },
   {
    "duration": 39,
    "start_time": "2024-07-09T04:42:39.817Z"
   },
   {
    "duration": 8,
    "start_time": "2024-07-09T04:42:39.860Z"
   },
   {
    "duration": 39,
    "start_time": "2024-07-09T04:42:39.871Z"
   },
   {
    "duration": 25,
    "start_time": "2024-07-09T04:42:39.913Z"
   },
   {
    "duration": 21,
    "start_time": "2024-07-09T04:42:39.941Z"
   },
   {
    "duration": 41,
    "start_time": "2024-07-09T04:42:39.964Z"
   }
  ],
  "kernelspec": {
   "display_name": "Python 3 (ipykernel)",
   "language": "python",
   "name": "python3"
  },
  "language_info": {
   "codemirror_mode": {
    "name": "ipython",
    "version": 3
   },
   "file_extension": ".py",
   "mimetype": "text/x-python",
   "name": "python",
   "nbconvert_exporter": "python",
   "pygments_lexer": "ipython3",
   "version": "3.11.5"
  },
  "toc": {
   "base_numbering": 1,
   "nav_menu": {},
   "number_sections": true,
   "sideBar": true,
   "skip_h1_title": true,
   "title_cell": "Table of Contents",
   "title_sidebar": "Contents",
   "toc_cell": false,
   "toc_position": {},
   "toc_section_display": true,
   "toc_window_display": false
  }
 },
 "nbformat": 4,
 "nbformat_minor": 2
}
